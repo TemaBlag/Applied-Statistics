{
  "cells": [
    {
      "cell_type": "markdown",
      "id": "c63339f0",
      "metadata": {
        "id": "c63339f0"
      },
      "source": [
        "# Введение в статистику."
      ]
    },
    {
      "cell_type": "code",
      "execution_count": 1,
      "id": "d5f9414c",
      "metadata": {
        "id": "d5f9414c"
      },
      "outputs": [],
      "source": [
        "from scipy.stats import binom\n",
        "import numpy as numpy\n",
        "from seaborn import distplot\n",
        "from matplotlib import pyplot\n",
        "import seaborn\n",
        "import random\n",
        "\n",
        "import sys\n",
        "sys.path.append('.')"
      ]
    },
    {
      "cell_type": "code",
      "execution_count": 2,
      "id": "c51ca343",
      "metadata": {
        "id": "c51ca343"
      },
      "outputs": [],
      "source": [
        "def inverse_plot_colorscheme():\n",
        "    import cycler\n",
        "    def invert(color_to_convert):\n",
        "        table = str.maketrans('0123456789abcdef', 'fedcba9876543210')\n",
        "        return '#' + color_to_convert[1:].lower().translate(table).upper()\n",
        "    update_dict = {}\n",
        "    for key, value in pyplot.rcParams.items():\n",
        "        if value == 'black':\n",
        "            update_dict[key] = 'white'\n",
        "        elif value == 'white':\n",
        "            update_dict[key] = 'black'\n",
        "\n",
        "    old_cycle = pyplot.rcParams['axes.prop_cycle']\n",
        "    new_cycle = []\n",
        "    for value in old_cycle:\n",
        "        new_cycle.append({\n",
        "            'color': invert(value['color'])\n",
        "        })\n",
        "    pyplot.rcParams.update(update_dict)\n",
        "    pyplot.rcParams['axes.prop_cycle'] = cycler.Cycler(new_cycle)\n",
        "    lec = pyplot.rcParams['legend.edgecolor']\n",
        "    lec = str(1 - float(lec))\n",
        "    pyplot.rcParams['legend.edgecolor'] = lec"
      ]
    },
    {
      "cell_type": "code",
      "execution_count": 3,
      "id": "ea72839f",
      "metadata": {
        "id": "ea72839f"
      },
      "outputs": [],
      "source": [
        "inverse_plot_colorscheme()"
      ]
    },
    {
      "cell_type": "markdown",
      "id": "b8ea1909",
      "metadata": {
        "id": "b8ea1909"
      },
      "source": [
        "______\n",
        "\n",
        "В этой лекции мы начинаем знакомство с математической статистикой. На примере бизнес-задачи мы разберём, зачем нужна статистика, как применить её к конкретной задаче и какие ошибки можно совершить, если не пользоваться математическим аппаратом."
      ]
    },
    {
      "cell_type": "markdown",
      "id": "9c485fca",
      "metadata": {
        "id": "9c485fca"
      },
      "source": [
        "## Часть 1. Зачем нужна прикладная статистика\n",
        "\n",
        "Предположим, вы придумали идею для стартапа. Вы договорились с магазинами одежды об осуществлении доставки и наняли курьеров, которые собирают из магазинов заказы и доставляют клиентам. Предположим, доставка в вашем сервисе стоит 1000 рублей, а курьеру за работу требуется заплатить 500 рублей. Казалось бы, прибыль очевидна, но внезапно вы понимаете, что от одежды часто отказываются, если она не подходит. Это понимают и ваши инвесторы, которых вы просите помочь с рекламой и инфраструктурой. Они согласны помогать вам, если шанс отказа будет меньше 50%.\n",
        "\n",
        "**Как вам убедить инвесторов?**\n",
        "\n",
        "Вы решаетесь на эксперимент. Самостоятельно находите $30$ клиентов и доставляете им заказы через курьеров. Оплачивают покупку $19$ из них, остальные отказываются. $19$ &mdash; это больше половины покупателей, но достаточно ли этого, чтобы доказать успешность вашего бизнеса?\n",
        "\n",
        "### Модель и наблюдения\n",
        "\n",
        "Решая такую задачу, мы предполагаем, что есть аудитория, которая воспользуется нашим сервисом. Она называется *генеральной совокупностью*. Если мы запустим сервис на всех пользователей, то в нём будет доля успешных доставок, обозначим её $\\mu$. Это некоторый параметр, который мы не знаем. Всё, что мы можем делать &mdash; это проводить эксперименты и *наблюдать*. Мы не можем протестировать продукт на всех, но можем собрать *выборку* из генеральной совокупности и пронаблюдать долю успехов. По проведённому эксперименту видим, что наблюдаемая вероятность оплаты $\\frac{19}{30} = 63\\%$.\n",
        "\n",
        "Но до сих пор неясно, является ли это доказательством, что истинное $\\mu > 50\\%$.\n",
        "\n",
        "Посмотрим, почему это может не быть доказательством. Положим вероятность $\\mu = 0.5$ и математически смоделируем, какие могли быть статусы наших 30 заказов.\n",
        "\n",
        "**Алгоритм моделирования**\n",
        "\n",
        "- Так как вероятность успеха 0.5, можно подбросить монетку для моделирования того, был ли успех\n",
        "- Чтобы подбросить монетку, воспользуемся функцией `random.randint`, которая возвращает случайное целое число из диапазона, в нашем случае от 0 до 1, где 1 означает успешную доставку\n",
        "- Подкинем монетку 30 раз, чтобы получить результаты 30 доставок"
      ]
    },
    {
      "cell_type": "code",
      "execution_count": 4,
      "id": "22de314c",
      "metadata": {
        "id": "22de314c"
      },
      "outputs": [],
      "source": [
        "# фиксируем последовательность рандома для воспроизводимости\n",
        "random.seed(20000)"
      ]
    },
    {
      "cell_type": "code",
      "execution_count": 5,
      "id": "16f34269",
      "metadata": {
        "id": "16f34269"
      },
      "outputs": [],
      "source": [
        "statuses = []\n",
        "for _ in range(30):  # моделируем 30 доставок\n",
        "    status = random.randint(0, 1)  # генерируем случайное число, 0 или 1\n",
        "    statuses.append(status)\n",
        "exp_chance = sum(statuses) / 30  # доля успехов"
      ]
    },
    {
      "cell_type": "code",
      "execution_count": 6,
      "id": "1245534d",
      "metadata": {
        "colab": {
          "base_uri": "https://localhost:8080/"
        },
        "id": "1245534d",
        "outputId": "f3dc3ad0-b955-45c9-e416-da6822268abd"
      },
      "outputs": [
        {
          "output_type": "stream",
          "name": "stdout",
          "text": [
            "Доля успехов: 67%\n"
          ]
        }
      ],
      "source": [
        "print('Доля успехов: {:.0%}'.format(exp_chance))"
      ]
    },
    {
      "cell_type": "markdown",
      "id": "93b90abc",
      "metadata": {
        "id": "93b90abc"
      },
      "source": [
        "Видим, что в эксперименте доля успешных заказов была даже выше $63\\%$, но модельная вероятность была $50\\%$.\n",
        "\n",
        "Поэтому, к сожалению, **точно сказать, какой является $\\mu$ в генеральной совокупности, и больше ли она 50%, нельзя**, сколько бы мы ни наблюдали за доставками. Но с помощью прикладной статистики мы введём аппарат, который позволяет принять правильное продуктовое решение, в том числе и для этой задачи."
      ]
    },
    {
      "cell_type": "markdown",
      "id": "622e27cc",
      "metadata": {
        "id": "622e27cc"
      },
      "source": [
        "## Часть 2. Статистические гипотезы"
      ]
    },
    {
      "cell_type": "markdown",
      "id": "188d64ff",
      "metadata": {
        "id": "188d64ff"
      },
      "source": [
        "Мы увидели, что можно получить довольно много успехов даже в случае вероятности $\\mu = 0.5$. Но на самом деле для этого пришлось подбирать seed. Если перезапустить только ячейку с экспериментом, доля успехов получится уже меньше половины! Так может быть большая доля успехов случается очень редко, и мы готовы принять большое в качестве доказательства?\n",
        "\n",
        "Чтобы это понять, надо ответить на вопрос:\n",
        "\n",
        "❓ **Насколько часто может быть такое, что при $\\mu = 0.5$ получается большая доля успехов**?\n",
        "\n",
        "Для этого обратимся к теории вероятностей. Успешность каждого заказа &mdash; это случайная величина $\\xi$ из распределения Бернулли. Параметр этого распределения, вероятность успеха, мы не знаем."
      ]
    },
    {
      "cell_type": "markdown",
      "id": "b505d998",
      "metadata": {
        "id": "b505d998"
      },
      "source": [
        "$$ \\xi = \\xi_1, \\xi_2, \\dots, \\xi_{30} \\sim Bern(\\mu) - \\text{выборка} $$\n",
        "\n",
        "$$ \\mu - \\text{неизвестный параметр} $$\n",
        "\n",
        "### Гипотеза\n",
        "\n",
        "При этом у нас есть продуктовая гипотеза о том, как устроено распределение в генеральной совокупности. Нас интересует доказательство того, что $\\mu > 0.5$. В механизме проверки гипотез в статистике рассматривают две гипотезы. Нулевая гипотеза говорит о том, что мы хотим опровергнуть. Альтернативная гипотеза говорит о том, что мы хотим доказать.\n",
        "\n",
        "$$ \\mathsf{H}_0: \\mu = 0.5 $$\n",
        "$$ \\mathsf{H}_1: \\mu > 0.5 $$\n"
      ]
    },
    {
      "cell_type": "markdown",
      "id": "a798c575",
      "metadata": {
        "id": "a798c575"
      },
      "source": [
        "Заметим, что если в эксперименте $30$ доставок, то можно смотреть не на долю успехов, а просто на количество. Переформулируем вопрос:\n",
        "\n",
        "❓ **Насколько часто может быть такое, что при справедливости $\\mathsf{H}_0$ получается большое количество успехов**?\n",
        "\n",
        "Количество успехов &mdash; это сумма независимых бернуллиевских величин, значит имеет биномиальное распределение. Посмотрим, как оно выглядит."
      ]
    },
    {
      "cell_type": "code",
      "source": [
        "binom_h0 = binom(n=30,p=0.5)\n",
        "x_grid = numpy.arange(1, 31)\n",
        "probs = binom_h0.pmf(x_grid)\n",
        "pyplot.figure(figsize=(10, 5))\n",
        "pyplot.vlines(x_grid, 0, probs, linewidth=15.0, color='white')\n",
        "crit_reg = x_grid >= 20\n",
        "pyplot.vlines(x_grid[crit_reg], 0, probs[crit_reg], linewidth=15.0)\n",
        "pyplot.title('Binomial distribution|H0', fontsize=20)\n",
        "pyplot.show()"
      ],
      "metadata": {
        "colab": {
          "base_uri": "https://localhost:8080/",
          "height": 476
        },
        "id": "uElau3-L_QNL",
        "outputId": "d407dbe1-4d68-4d85-f6ae-034707ff7138"
      },
      "id": "uElau3-L_QNL",
      "execution_count": null,
      "outputs": [
        {
          "output_type": "display_data",
          "data": {
            "text/plain": [
              "<Figure size 1000x500 with 1 Axes>"
            ],
            "image/png": "[encoded data removed]"
          },
          "metadata": {}
        }
      ]
    },
    {
      "cell_type": "markdown",
      "id": "1ffb0c22",
      "metadata": {
        "id": "1ffb0c22"
      },
      "source": [
        "Видим, например, что $20$ и более успехов случаются достаточно редко. Для принятия решения можно пользоваться правилом `инвестируем, если успехов хотя бы 20`. Если $\\mathsf{H}_0$ и верна, то ошибаться, используя это правило, мы будем редко."
      ]
    },
    {
      "cell_type": "markdown",
      "id": "1e47d00f",
      "metadata": {
        "id": "1e47d00f"
      },
      "source": [
        "### Критерий\n",
        "\n",
        "Только что мы придумали алгоритм, который по выборке $\\xi$ либо признаёт, что мы нашли доказательство в пользу $\\mathsf{H}_1$, либо говорит, что его не нашли. Соответственно будет либо **отвергать $\\mathsf{H}_0$**, либо **не отвергать**.\n",
        "\n",
        "Такой алгоритм называется **критерием**. Представим его как функцию $S$, которая принимает реализацию выборки и возвращает $1$, если нужно отвергнуть $\\mathsf{H}_0$, и $0$ иначе.\n",
        "\n",
        "$$\n",
        "S(\\xi) = \\begin{cases}\n",
        "    1, \\text{ если отвергаем } \\mathsf{H}_0 \\\\\n",
        "    0, \\text{ иначе}\n",
        "\\end{cases}\n",
        "$$\n",
        "\n",
        "Запишем правило, которое сформулировали выше для нашей задачи:\n",
        "\n",
        "$$\n",
        "S(\\xi) = \\begin{cases}\n",
        "    1, \\text{ если } \\sum \\xi_i \\geqslant 20 \\\\\n",
        "    0, \\text{ иначе}\n",
        "\\end{cases}\n",
        "$$\n",
        "\n",
        "Обычно сокращают запись и пишут просто правило, по которому отвергаем $\\mathsf{H}_0$\n",
        "\n",
        "$$ S = \\{\\sum \\xi_i \\geqslant 20\\} $$\n",
        "\n",
        "Обозначим $Q = \\sum \\xi_i$, $С = 20$, тогда критерий принимает вид\n",
        "\n",
        "$$ S = \\{Q(\\xi) \\geqslant C\\} $$\n",
        "\n",
        "Так устроено большинство классических критериев в прикладной статистике, поэтому величинам в нём даны специальные названия. $Q$ называется **статистикой критерия**, $C$ &mdash; **критическим значением**.\n",
        "\n",
        "$Q$ может быть любой функцией от выборки, которую вы считаете логичной для проверки гипотезы. В нашем случае это количество успехов, или сумма всех $\\xi_i$. Но вы можете выбрать и другие: максимальное значение, сумму первых 5 значений или даже просто первый элемент."
      ]
    },
    {
      "cell_type": "markdown",
      "id": "565e4d5b",
      "metadata": {
        "id": "565e4d5b"
      },
      "source": [
        "### Поиск критического значения\n",
        "\n",
        "Снова перепишем наш основной вопрос, только теперь с использованием нашего критерия $S$:\n",
        "\n",
        "❓ **Насколько часто может быть такое, что при справедливости $\\mathsf{H}_0$ критерий $S$ отвергает гипотезу**?\n",
        "\n",
        "Ответ на этот вопрос зависит от критического значения. Сейчас мы взяли его равным $20$, увидев на картинке, что большие отклонения происходят при $\\mathsf{H}_0$ редко. Но что значит редко и насколько редко, не сказали. Теперь наша цель понять, как выбрать критическое значение $C$, исходя из частоты ошибок нашего критерия.\n",
        "\n",
        "Выбирая $C$, мы можем либо часто отвергать нулевую гипотезу, когда $C$ мало, либо можем делать это реже, когда $C$ большое. Чтобы выбрать правильное значение, нужно определиться, когда наш критерий ошибается.\n",
        "\n",
        "**C = 16**\n",
        "\n",
        "Если отвергать гипотезу при получении хотя бы 16 успешных доставок из 30, то это вряд ли устроит инвесторов. Да, успехов больше половины. Но если в генеральной совокупности вероятность 0.5, то почти в половине случаев мы будем отвергать гипотезу. Критерий ошибочно возвращает $1$, то есть это ошибка **False Positive**.\n",
        "\n",
        "**C = 29**\n",
        "\n",
        "В таком случае будем отвергать гипотезу только при 29 или 30 успехах. Эти значения, конечно, говорят о том, что отклонение от 50% успехов сильное. Но если в генеральной совокупности вероятность, к примеру, 60%, то такие значения будут получаться редко. А ведь такие вероятности тоже устроили бы инвесторов, и мы бы смогли открыть стартап! А с таким критерием мы вряд ли добьёмся этого. Не отвергнуть гипотезу $\\mathsf{H}_0$, когда она неверна - это тоже ошибка. Она называется **False Negative**, так как критерий вернул 0 ошибочно.\n",
        "\n",
        "$$ \\text{False Positive (FP) } - \\mathsf{H}_0\\ отвергается,\\ когда\\ она\\ верна $$\n",
        "$$ \\text{False Negative (FN) } - \\mathsf{H}_0\\ не\\ отвергается,\\ когда\\ она\\ не верна $$\n",
        "\n",
        "В нашей задаче инвесторам важнее False Positive. Им очень не хочется попасть в ситуацию, когда им показали доказательство успешности бизнеса, а оказалось, что от большинства заказов отказываются, и компания не получает прибыль. Это приведёт к убыткам. False Negative же приведет к тому, что вы упустите успешный бизнес, но инвесторы денег не потеряют.\n",
        "\n",
        "Поэтому выберем порог, чтобы была удовлетворительной вероятность False Positive, или же False Positive Rate (FPR). Для этого надо понять, как часто мы будем отвергать гипотезу, когда верна $\\mathsf{H}_0$.\n",
        "\n",
        "Теперь снова переформулируем основной вопрос, полностью с использованием новых терминов, и наконец ответим на него.\n",
        "\n",
        "❓ **Какой FPR у критерия S для проверки гипотезы $\\mathsf{H}_0$ vs $\\mathsf{H}_1$**?\n",
        "\n",
        "Вспомним моделирование из части 1. Когда $\\mathsf{H}_0$ верна, чтобы посчитать количество успехов мы проводили $30$ раз подбрасывание монетки с вероятностью орла $0.5$. Количество орлов (то есть успехов) в таком эксперименте имеет распределение, которое называется биномиальным, то есть при $\\mu = 0.5$ наша статистика имеет биномиальное распределение $Q \\sim Binom(0.5, 30)$.\n",
        "\n",
        "Вычислим FPR для $C = 20$\n",
        "\n",
        "$$ FPR = P(S(\\xi) = 1\\ |\\  \\mathsf{H}_0) = P(Q \\geqslant 20\\ |\\ \\mathsf{H}_0) = P(Q \\geqslant 20\\ |\\ \\mu = 0.5) = $$\n",
        "\n",
        "$$ = P(Q \\geqslant 20\\ |\\ Q \\sim Binom(0.5, 30)) $$\n",
        "\n",
        "Это уже вероятность события при конкретном распределении случайной величины. Его можно посмотреть по таблице или, что удобнее, вычислить в Python. Работе с распределениями в Python будет посвящена часть 3.\n",
        "\n",
        "$$ FPR \\approx 0.049 $$\n",
        "\n",
        "Если False Positive Rate не превышает некоторой константы $\\alpha$, то критерий называется критерием **уровня значимости** $\\alpha$. В прикладной статистике мы никогда не ставим задачу в формулировке \"создать статистический критерий\", а ставим только в формулировке \"создать статистический критерий уровня значимости \"$\\alpha$\". Статистический критерий с $\\alpha$ = 100% создать тривиально &mdash; достаточно всегда отвергать $H_0$ &mdash; поэтому такая постановка не имеет смысла.\n",
        "\n",
        "Уровень значимости обычно выбирается на основе бизнес-соображений. Он обозначает то, какой риск неправильного принятия положительного решения мы считаем приемлемым. Обычно берут $\\alpha = 0.05$, но если требуется более точное принятие решения, могут выбрать $0.01$, $0.005$, $0.001$. Если же решение не так критично, могут выбрать $0.1$.\n",
        "\n",
        "Предположим, выбрали значение $\\alpha = 0.05$, тогда наш критерий подходит для принятия решений. Воспользуемся критерием $S$: в нашем случае у нас всего лишь $19$ успехов, а значит гипотезу $\\mathsf{H}_0$ мы не отвергаем."
      ]
    },
    {
      "cell_type": "markdown",
      "id": "78a2abfb",
      "metadata": {
        "id": "78a2abfb"
      },
      "source": [
        "## Часть 3. Статистические функции в Python\n",
        "\n",
        "В этой части посмотрим, как вывести то, что мы получили в части 2, с помощью Python. А также поймём, как найти подходящее $C$ с помощью Python."
      ]
    },
    {
      "cell_type": "markdown",
      "id": "1e6b331a",
      "metadata": {
        "id": "1e6b331a"
      },
      "source": [
        "### Биномиальное распределение\n",
        "\n",
        "Мы выяснили, что статистика $Q$ имеет биномиальное распределение.\n",
        "\n",
        "Биномиальное распределение $Binom(n, \\mu)$ &mdash; распределение количества успехов в последовательности из $n$ независимых случайных экспериментов, вероятность успеха в каждом из которых равна $\\mu$.\n",
        "\n",
        "Чтобы работать с распределением, можно создать объект-распределение с помощью библиотеки `scipy.stats`."
      ]
    },
    {
      "cell_type": "code",
      "execution_count": null,
      "id": "539575d3",
      "metadata": {
        "id": "539575d3"
      },
      "outputs": [],
      "source": [
        "binom_h0 = binom(\n",
        "    n=30, # количество испытаний\n",
        "    p=0.5 # вероятность успеха\n",
        ")"
      ]
    },
    {
      "cell_type": "markdown",
      "id": "af0fb4aa",
      "metadata": {
        "id": "af0fb4aa"
      },
      "source": [
        "### Функция вероятности\n",
        "\n",
        "PDF (*Probability Density Function*) и PMF (*Probability Mass Function*) — это функции, описывающие распределение вероятностей случайной величины, но применяются к разным типам данных.\n",
        "\n",
        "### **Основные отличия**\n",
        "1. **Тип случайной величины:**  \n",
        "   - **PMF (Функция вероятностной массы)** применяется к **дискретным** случайным величинам (например, число выпавших очков на кубике).  \n",
        "   - **PDF (Функция плотности вероятности)** применяется к **непрерывным** случайным величинам (например, рост человека).  \n",
        "\n",
        "2. **Значение функции:**  \n",
        "   - **PMF** даёт **вероятность** конкретного значения $ P(X = x) $. Например, вероятность выпадения «3» на шестигранном кубике:  \n",
        "     $ P(X=3) = \\frac{1}{6}; $\n",
        "   - **PDF** не даёт саму вероятность конкретного значения, а показывает **плотность вероятности** в точке $ x $. Вероятность попадания в интервал $ [a, b] $ вычисляется как интеграл от PDF:  \n",
        "     $ P(a \\leq X \\leq b) = \\int_a^b f(x) dx; $\n",
        "     Так как вероятность отдельной точки у непрерывной случайной величины равна нулю, PDF не определяет $ P(X=x) $ напрямую.  \n",
        "\n",
        "3. **Свойства:**  \n",
        "   - Для **PMF**:  \n",
        "     $ \\sum P(X = x_i) = 1; $\n",
        "   - Для **PDF**:  \n",
        "     $ \\int_{-\\infty}^{\\infty} f(x) dx = 1; $\n",
        "\n",
        "Функция вероятности дискретного распределения $p_\\xi(x)$ &mdash; вероятность, с которой $\\xi$ принимает значение $x$.\n",
        "\n",
        "В Python это функция `pmf` (probability mass function)"
      ]
    },
    {
      "cell_type": "code",
      "execution_count": null,
      "id": "d80e9bba",
      "metadata": {
        "colab": {
          "base_uri": "https://localhost:8080/"
        },
        "id": "d80e9bba",
        "outputId": "0c6531f9-ea18-46a7-f286-8f59a45b6475"
      },
      "outputs": [
        {
          "output_type": "execute_result",
          "data": {
            "text/plain": [
              "np.float64(0.02798160072416065)"
            ]
          },
          "metadata": {},
          "execution_count": 13
        }
      ],
      "source": [
        "binom_h0.pmf(10)"
      ]
    },
    {
      "cell_type": "markdown",
      "id": "1f57e1f4",
      "metadata": {
        "id": "1f57e1f4"
      },
      "source": [
        "Изобразим распределение статистики $Q$ при справедливости $\\mathsf{H}_0$ на графике. Для этого можно передать сразу массив точек, для которых надо рассчитать вероятность."
      ]
    },
    {
      "cell_type": "code",
      "execution_count": null,
      "id": "2d335713",
      "metadata": {
        "id": "2d335713"
      },
      "outputs": [],
      "source": [
        "# координата\n",
        "x_grid = numpy.arange(1, 31)\n",
        "# высота столбцов на графике\n",
        "probs = binom_h0.pmf(x_grid)"
      ]
    },
    {
      "cell_type": "code",
      "execution_count": null,
      "id": "b50f4e82",
      "metadata": {
        "colab": {
          "base_uri": "https://localhost:8080/",
          "height": 707
        },
        "id": "b50f4e82",
        "outputId": "a489c283-41d2-4a50-ed05-fe559aacc614"
      },
      "outputs": [
        {
          "output_type": "display_data",
          "data": {
            "text/plain": [
              "<Figure size 1600x800 with 1 Axes>"
            ],
            "image/png": "[encoded data removed]"
          },
          "metadata": {}
        }
      ],
      "source": [
        "pyplot.figure(figsize=(16, 8))\n",
        "\n",
        "# строим вертикальные столбцы от 0 до вероятности\n",
        "pyplot.vlines(x_grid, 0, probs, linewidth=15.0, color='white', label='PMF, $Binom(0.5, 30)$')\n",
        "# отдельно изобразим критическую области критерия\n",
        "crit_reg = x_grid >= 20\n",
        "pyplot.vlines(x_grid[crit_reg], 0, probs[crit_reg], linewidth=15.0, label='Critical region for S')\n",
        "\n",
        "pyplot.title('Binomial distribution', fontsize=20)\n",
        "pyplot.legend(fontsize=18)\n",
        "pyplot.show()"
      ]
    },
    {
      "cell_type": "markdown",
      "id": "742866be",
      "metadata": {
        "id": "742866be"
      },
      "source": [
        "На самом деле уже сейчас мы можем посчитать вероятность попадания в критическую область. Нужно просто просуммировать высоты оранжевых столбцов."
      ]
    },
    {
      "cell_type": "code",
      "execution_count": null,
      "id": "6624434e",
      "metadata": {
        "colab": {
          "base_uri": "https://localhost:8080/"
        },
        "id": "6624434e",
        "outputId": "368ebb6a-4683-4573-c11f-f3d3136f02bd"
      },
      "outputs": [
        {
          "output_type": "execute_result",
          "data": {
            "text/plain": [
              "np.float64(0.049368573352694636)"
            ]
          },
          "metadata": {},
          "execution_count": 16
        }
      ],
      "source": [
        "numpy.sum(probs[crit_reg])"
      ]
    },
    {
      "cell_type": "markdown",
      "id": "bfcc9f59",
      "metadata": {
        "id": "bfcc9f59"
      },
      "source": [
        "Получаем то число, которое было в части 2. Значит мы действительно построили критерий уровня значимости $\\alpha = 0.05$. Более того, это критерий уровня значимости $0.0494$, но такую точность обычно не используют.\n",
        "\n",
        "А что если бы мы взяли $C = 19?$"
      ]
    },
    {
      "cell_type": "code",
      "execution_count": null,
      "id": "b390f8cc",
      "metadata": {
        "colab": {
          "base_uri": "https://localhost:8080/"
        },
        "id": "b390f8cc",
        "outputId": "35dfb974-2956-4860-9afd-14dc3a11176b"
      },
      "outputs": [
        {
          "output_type": "execute_result",
          "data": {
            "text/plain": [
              "np.float64(0.10024421103298672)"
            ]
          },
          "metadata": {},
          "execution_count": 17
        }
      ],
      "source": [
        "crit_reg = x_grid >= 19\n",
        "numpy.sum(probs[crit_reg])"
      ]
    },
    {
      "cell_type": "markdown",
      "id": "f5b03413",
      "metadata": {
        "id": "f5b03413"
      },
      "source": [
        "Тогда вероятность ошибки уже даже больше $10\\%$, что совсем нам не подходит. Видно, что нет такого $C$, чтобы False Positive Rate был ровно $5\\%$."
      ]
    },
    {
      "cell_type": "markdown",
      "id": "e4e30701",
      "metadata": {
        "id": "e4e30701"
      },
      "source": [
        "### Кумулятивная функция распределения"
      ]
    },
    {
      "cell_type": "markdown",
      "id": "9b88f8bf",
      "metadata": {
        "id": "9b88f8bf"
      },
      "source": [
        "Кумулятивная функция распределения $F_\\xi(x) = P(\\xi \\leqslant x)$\n",
        "\n",
        "В Python это функция `cdf` (cumulative distribution function)"
      ]
    },
    {
      "cell_type": "code",
      "execution_count": null,
      "id": "cf5fb44d",
      "metadata": {
        "colab": {
          "base_uri": "https://localhost:8080/"
        },
        "id": "cf5fb44d",
        "outputId": "e078d978-1cb0-496f-8a80-372590087882"
      },
      "outputs": [
        {
          "output_type": "execute_result",
          "data": {
            "text/plain": [
              "np.float64(0.9506314266473055)"
            ]
          },
          "metadata": {},
          "execution_count": 18
        }
      ],
      "source": [
        "binom_h0.cdf(19)"
      ]
    },
    {
      "cell_type": "markdown",
      "id": "73561795",
      "metadata": {
        "id": "73561795"
      },
      "source": [
        "По строчке выше понятно, что вероятность получить $19$ или меньше успехов в нашей задаче $\\geqslant 0.95$. А поскольку $P(\\xi \\leqslant 19) + P(\\xi \\geqslant 20) = 1$, можем вычислить уровень значимости нашего критерия."
      ]
    },
    {
      "cell_type": "code",
      "execution_count": null,
      "id": "d36dd3cf",
      "metadata": {
        "colab": {
          "base_uri": "https://localhost:8080/"
        },
        "id": "d36dd3cf",
        "outputId": "1bba84b4-91e7-4478-abfd-ed8dfe91c97f"
      },
      "outputs": [
        {
          "output_type": "execute_result",
          "data": {
            "text/plain": [
              "np.float64(0.04936857335269451)"
            ]
          },
          "metadata": {},
          "execution_count": 19
        }
      ],
      "source": [
        "1 - binom_h0.cdf(19)"
      ]
    },
    {
      "cell_type": "markdown",
      "id": "e0667c0b",
      "metadata": {
        "id": "e0667c0b"
      },
      "source": [
        "### Квантиль\n",
        "\n",
        "Чтобы выбрать критическую область для критерия, мы хотели бы найти точку, площадь столбцов справа от которой была бы $5\\%$. То есть площадь столбцов слева &mdash; $95\\%$. Такая точка называется *квантилью*.\n",
        "\n",
        "$$ u_p(\\xi) = \\{x\\ | F_\\xi(x) = p\\} $$\n",
        "\n",
        "Но при $p = 0.95$ и нашем биномиальном распределении, такой точки нет. Мы выяснили, что есть точка, справа от которой площадь $0.494$, а у следующей уже $0.1$. Чтобы определить квантиль в этом случае, модифицируем определение:\n",
        "\n",
        "Квантиль $Quantile_p(\\xi) = u_p(\\xi) = min\\ \\{x\\ |\\ F_\\xi(x) \\geqslant p \\}$ &mdash; величина, которую $\\xi$ не превышает с вероятностью хотя бы $p$.\n",
        "\n",
        "**Пример**\n",
        "\n",
        "Для величины $\\xi \\sim Bin(30, 0.5)$ посчитаем 0.95-квантиль. Решим задачу просто подбором.\n",
        "\n",
        "$$ P(\\xi \\leqslant 18) \\approx 0.90$$\n",
        "$$ P(\\xi \\leqslant 19) \\approx 0.951 $$\n",
        "$$ P(\\xi \\leqslant 20) \\approx 0.97 $$\n",
        "\n",
        "Видим, что 18 нам ещё не подходит, а 19 и большие значение уже подойдут. В них функция распределения будет больше $p$. Ответ - наименьшее подходящее значение, то есть 19. При этом нет точки, где функция распределения была бы равна $p$ в точности.\n",
        "\n",
        "\n",
        "Если бы распределение было непрерывное, можно было бы сказать, что квантиль &mdash; такое $x$, на котором функция распределения равна $p$. Но в прошлом пункте увидели, что для дискретного распределения такого может не быть.\n",
        "\n",
        "В Python квантиль можно посчитать через функцию `ppf` (percent point function)"
      ]
    },
    {
      "cell_type": "code",
      "execution_count": null,
      "id": "8a510e8a",
      "metadata": {
        "colab": {
          "base_uri": "https://localhost:8080/"
        },
        "id": "8a510e8a",
        "outputId": "194bb994-4fd6-4513-ff89-8012c53c5cc4"
      },
      "outputs": [
        {
          "output_type": "execute_result",
          "data": {
            "text/plain": [
              "np.float64(19.0)"
            ]
          },
          "metadata": {},
          "execution_count": 20
        }
      ],
      "source": [
        "binom_h0.ppf(0.95)"
      ]
    },
    {
      "cell_type": "markdown",
      "id": "b73c4ba8",
      "metadata": {
        "id": "b73c4ba8"
      },
      "source": [
        "Как теперь подобрать $C$ для любых $n, \\mu$ и для любого уровня значимости $\\alpha$?\n",
        "\n",
        "1. Требуется найти $C$, такое что $P(Q \\geqslant C) \\leqslant \\alpha$\n",
        "2. То есть требуется $P(Q < C) \\geqslant 1 - \\alpha$\n",
        "3. Q принимает только целые значения: $P(Q \\leqslant C - 1) \\geqslant 1 - \\alpha$, или $F(C - 1) \\geqslant 1 - \\alpha$\n",
        "4. Значит, из определения квантили, $C - 1 = u_{1 - \\alpha}$\n",
        "5. Значит $C = u_{1 - \\alpha} + 1$"
      ]
    },
    {
      "cell_type": "code",
      "execution_count": null,
      "id": "8172ba96",
      "metadata": {
        "id": "8172ba96"
      },
      "outputs": [],
      "source": [
        "def make_binom_criterion(n, mu=0.5, alpha=0.05):\n",
        "    '''Строит критерий для задачи с доставкой\n",
        "\n",
        "    Параметры:\n",
        "        n: количество доставок в эксперименте\n",
        "        mu: вероятность успеха в нулевой гипотезе\n",
        "        alpha: уровень значимости критерия\n",
        "\n",
        "    Возвращает:\n",
        "        C для критерия S = {Q >= C}\n",
        "    '''\n",
        "    binom_h0 = binom(n=n, p=mu)\n",
        "    q = binom_h0.ppf(1 - alpha)\n",
        "    return q + 1"
      ]
    },
    {
      "cell_type": "markdown",
      "id": "e28b2164",
      "metadata": {
        "id": "e28b2164"
      },
      "source": [
        "Применим к нашей постановке"
      ]
    },
    {
      "cell_type": "code",
      "execution_count": null,
      "id": "2794ac11",
      "metadata": {
        "colab": {
          "base_uri": "https://localhost:8080/"
        },
        "id": "2794ac11",
        "outputId": "8d961056-4046-49b8-fc00-f6fd2968c290"
      },
      "outputs": [
        {
          "output_type": "stream",
          "name": "stdout",
          "text": [
            "if Q >= 20.0 then reject H0\n"
          ]
        }
      ],
      "source": [
        "print(f'if Q >=', make_binom_criterion(\n",
        "    n=30,\n",
        "    mu=0.5,\n",
        "    alpha=0.05\n",
        "), 'then reject H0')"
      ]
    },
    {
      "cell_type": "markdown",
      "id": "29055110",
      "metadata": {
        "id": "29055110"
      },
      "source": [
        "Критическое значение $20$, значит итоговый критерий выглядит так\n",
        "\n",
        "$$ S = \\{Q \\geqslant 20\\} $$\n",
        "\n",
        "\n",
        "$Q = 19$, значит гипотезу мы не отвергаем.\n",
        "\n",
        "При этом нам удалось построить процесс, по которому мы принимаем решение для любого уровня значимости и значения статистики критерия."
      ]
    },
    {
      "cell_type": "markdown",
      "id": "24a5dcb6",
      "metadata": {
        "id": "24a5dcb6"
      },
      "source": [
        "## Часть 4. p-value"
      ]
    },
    {
      "cell_type": "markdown",
      "id": "482918e1",
      "metadata": {
        "id": "482918e1"
      },
      "source": [
        "Заметим, что сейчас, если нам зададут другую $\\alpha$, нам придётся перестраивать критерий заново. Это не совсем удобно. В статистике есть механизм *p-value*, который позволяет принять решения для всех $\\alpha$ сразу."
      ]
    },
    {
      "cell_type": "markdown",
      "id": "3190870e",
      "metadata": {
        "id": "3190870e"
      },
      "source": [
        "### Более экстремальные значения\n",
        "\n",
        "Предположим, мы провели эксперимент и посчитали для критерия его статистику $Q(\\xi)$. Обозначим полученное значение $q$, в текущей задаче это $q = 19$. Если бы количество успешных доставок было ещё больше, это бы сильнее свидетельствовало о том, что гипотеза $\\mathsf{H}_0$ не выполнена. То есть в случае значения $25$ мы были бы ещё сильнее уверены в том, что наш бизнес будет окупаться. Тогда значение $25$ называется *более экстремальным*, чем значение $19$. В нашей задаче более экстремально из двух значений то, которое больше.\n",
        "\n",
        "Определим понятие экстремальности формально:\n",
        "\n",
        "$$ S = \\{Q(\\xi) \\geqslant C\\}:\\ t\\ \\text{экстремальнее}\\ q \\Leftrightarrow t > q $$\n",
        "\n",
        "Зачастую критерии других видов можно привести к этому, тогда для них тоже определено понятие экстремальности."
      ]
    },
    {
      "cell_type": "markdown",
      "id": "3f73b537",
      "metadata": {
        "id": "3f73b537"
      },
      "source": [
        "### p-value\n",
        "\n",
        "**p-value** &mdash; это вероятность при справедливости $\\mathsf{H}_0$ получить столь же экстремальное значение статистики $q$ или ещё более экстремальное."
      ]
    },
    {
      "cell_type": "code",
      "source": [
        "C = 20\n",
        "q = 15\n",
        "fig, ax = pyplot.subplots(1, 1, figsize=(10, 5))\n",
        "\n",
        "ax.set_title(f'P-value for $q = {q}$' + (' [our experiment]' if q == 19 else ''))\n",
        "# строим вертикальные столбцы от 0 до вероятности\n",
        "ax.vlines(x_grid, 0, probs, linewidth=8.0, color='white', label='PMF, $Binom(0.5, 30)$')\n",
        "# отдельно изобразим критическую области критерия\n",
        "crit_reg = x_grid >= 20\n",
        "ax.vlines(x_grid[crit_reg], 0, probs[crit_reg], linewidth=8.0, label='Critical region for S')\n",
        "\n",
        "# посчитаем площадь более экстремальных значений\n",
        "pvalue = 1 - binom_h0.cdf(q - 1)\n",
        "# изобразим такие же и более экстремальные значения на графике\n",
        "more_extremal = x_grid >= q\n",
        "ax.vlines(\n",
        "    x_grid[more_extremal], 0, probs[more_extremal], linewidth=3.0, color='red',\n",
        "    label='q or more extremal pvalue: {:.3f}'.format(pvalue)\n",
        ")\n",
        "ax.legend()\n",
        "pyplot.show()"
      ],
      "metadata": {
        "colab": {
          "base_uri": "https://localhost:8080/",
          "height": 470
        },
        "id": "veJP_tLGFb-P",
        "outputId": "171cf08c-209f-458a-925b-b2985a72307a"
      },
      "id": "veJP_tLGFb-P",
      "execution_count": null,
      "outputs": [
        {
          "output_type": "display_data",
          "data": {
            "text/plain": [
              "<Figure size 1000x500 with 1 Axes>"
            ],
            "image/png": "[encoded data removed]"
          },
          "metadata": {}
        }
      ]
    },
    {
      "cell_type": "markdown",
      "id": "cc7e3819",
      "metadata": {
        "id": "cc7e3819"
      },
      "source": [
        "Научимся считать p-value. Будем итеративно по строчкам расписывать формулу, добавляя кусочки определения.\n",
        "\n",
        "p-value &mdash; это **вероятность**\n",
        "\n",
        "$$ P( $$\n",
        "\n",
        "**при справедливости $\\mathsf{H}_0$** (в нашем примере, статистика имеет биномиальное распределение с вероятностью успеха 0.5)\n",
        "\n",
        "$$ P_{\\mathsf{H}_0}( $$\n",
        "\n",
        "получить **такое же** значение **статистики** или **более экстремальное** (в нашем случае значит большее либо равное)\n",
        "\n",
        "$$ P_{\\mathsf{H}_0}(Q \\geqslant q) $$\n",
        "\n",
        "Теперь выведем формулу через функции Python:\n",
        "\n",
        "$$ pvalue(q) = P_{\\mathsf{H}_0}(Q \\geqslant q) = 1 - P_{\\mathsf{H}_0}(Q < q) =  1 - P_{\\mathsf{H}_0}(Q \\leqslant q - 1) = 1 - \\text{binom_h0.cdf(q - 1)}$$"
      ]
    },
    {
      "cell_type": "markdown",
      "id": "c0ca6092",
      "metadata": {
        "id": "c0ca6092"
      },
      "source": [
        "Изобразим на графике область более экстремальных значений и p-value для разных значений статистики."
      ]
    },
    {
      "cell_type": "code",
      "execution_count": null,
      "id": "2cddff27",
      "metadata": {
        "id": "2cddff27"
      },
      "outputs": [],
      "source": [
        "C = 20  # критическое значение\n",
        "qs = [10, 19, 20, 23]  # разные реализации статистики"
      ]
    },
    {
      "cell_type": "code",
      "execution_count": null,
      "id": "a7f57994",
      "metadata": {
        "colab": {
          "base_uri": "https://localhost:8080/",
          "height": 756
        },
        "id": "a7f57994",
        "outputId": "2efe6303-f416-4c19-ccac-fe80915f4843"
      },
      "outputs": [
        {
          "output_type": "display_data",
          "data": {
            "text/plain": [
              "<Figure size 1600x800 with 4 Axes>"
            ],
            "image/png": "[encoded data removed]"
          },
          "metadata": {}
        }
      ],
      "source": [
        "fig, axes = pyplot.subplots(2, 2, figsize=(16, 8))\n",
        "\n",
        "for q, ax in zip(qs, axes.flatten()):\n",
        "    ax.set_title(f'$q = {q}$' + (' [our experiment]' if q == 19 else ''))\n",
        "    # строим вертикальные столбцы от 0 до вероятности\n",
        "    ax.vlines(x_grid, 0, probs, linewidth=8.0, color='white', label='PMF, $Binom(0.5, 30)$')\n",
        "    # отдельно изобразим критическую области критерия\n",
        "    crit_reg = x_grid >= 20\n",
        "    ax.vlines(x_grid[crit_reg], 0, probs[crit_reg], linewidth=8.0, label='Critical region for S')\n",
        "\n",
        "    # посчитаем площадь более экстремальных значений\n",
        "    pvalue = 1 - binom_h0.cdf(q - 1)\n",
        "    # изобразим такие же и более экстремальные значения на графике\n",
        "    more_extremal = x_grid >= q\n",
        "    ax.vlines(\n",
        "        x_grid[more_extremal], 0, probs[more_extremal], linewidth=3.0, color='red',\n",
        "        label='q or more extremal pvalue: {:.3f}'.format(pvalue)\n",
        "    )\n",
        "    ax.legend()\n",
        "\n",
        "pyplot.suptitle('P-values for different q', fontsize=20)\n",
        "pyplot.show()"
      ]
    },
    {
      "cell_type": "markdown",
      "id": "2222100c",
      "metadata": {
        "id": "2222100c"
      },
      "source": [
        "Можно увидеть, что в критической области $p-value \\leqslant \\alpha$, а вне её $p-value > \\alpha$. Именно такое правило и используется для принятия решения\n",
        "\n",
        "$$ \\mathsf{H}_0 \\text{ отвергается } \\Leftrightarrow p-value \\leqslant \\alpha $$\n",
        "\n",
        "Причём по p-value сразу видно, что если бы в нашу критическую области включили значение $19$, наш критерий допускал бы False Positive в $10\\%$ случаев, что уже недопустимо. Поэтому и гипотезу мы не отвергаем.\n",
        "\n",
        "Заметим, что для вычисления p-value не понадобилось знание $\\alpha$, а нужна была только статистика и форма критерия."
      ]
    },
    {
      "cell_type": "markdown",
      "id": "213b0c46",
      "metadata": {
        "id": "213b0c46"
      },
      "source": [
        "## Часть 5. Двусторонные критерии"
      ]
    },
    {
      "cell_type": "markdown",
      "id": "f4dbaf1d",
      "metadata": {
        "id": "f4dbaf1d"
      },
      "source": [
        "До этого момента нас интересовали отклонения от вероятности в $50\\%$ только в одну сторону. И логично, ведь это продиктовано бизнес-смыслом. Только большая доля успешных доставок приведёт к успеху. И обычно при принятии решений так и бывает. **При тестировании нового решения или продукта рассматривают альтернативную гипотезу только в сторону улучшения**, потому что в противном случае нет смысла внедрять решение на всех пользователей.\n",
        "\n",
        "\n",
        "Однако **иногда** может потребоваться доказывать отклонения в обе стороны, если вы проверяете какое-то предположение. Пусть вам дали монетку и просят проверить, честная она или нет. Монетка честная, если при подбрасываниях вероятность выпадения орла равна $0.5$. Вы подбрасываете монетку $30$ раз, каждый бросок &mdash; бернуллиевская величина, аналогично задаче с доставками. И нулевая гипотеза та же самая: $\\mu = 0.5$. Но теперь мы хотим отвергать эту  гипотезу как в случае большой вероятности орла, так и в случае маленькой, соответственно проверяем *двустороннюю гипотезу*.\n",
        "\n",
        "$$ \\mathsf{H}_0: \\mu = 0.5 $$\n",
        "$$ \\mathsf{H}_1: \\mu \\neq 0.5 $$\n",
        "\n",
        "Выберем критическую область для критерия при такой альтернативе. Воспользуемся той же статистикой $Q(\\xi) = \\sum \\xi_i$. Только теперь отклонения в каждую сторону одинаково важны. Отвергать гипотезу будем не только на достаточно больших значениях, но и на достаточно маленьких. Например, если у нас было всего $2$ орла из $30$ &mdash; это свидетельство в пользу того, что $\\mu \\neq 0.5$, но не в пользу $\\mu > 0.5$.\n",
        "\n",
        "Поскольку отклонения в разные стороны одинаково важны, а распределение симметричное, искать критерий можно в таком виде:\n",
        "\n",
        "$$ S = \\{|Q(\\xi) - 15| \\geqslant C\\} $$"
      ]
    },
    {
      "cell_type": "markdown",
      "id": "30ae5513",
      "metadata": {
        "id": "30ae5513"
      },
      "source": [
        "### Как выбрать критическую область"
      ]
    },
    {
      "cell_type": "markdown",
      "id": "da983184",
      "metadata": {
        "id": "da983184"
      },
      "source": [
        "Посмотрим, как будет выглядеть критическая область в таком случае."
      ]
    },
    {
      "cell_type": "code",
      "execution_count": null,
      "id": "9da5f643",
      "metadata": {
        "colab": {
          "base_uri": "https://localhost:8080/",
          "height": 707
        },
        "id": "9da5f643",
        "outputId": "6672f3cc-f791-43cf-ea5b-794899f99603"
      },
      "outputs": [
        {
          "output_type": "display_data",
          "data": {
            "text/plain": [
              "<Figure size 1600x800 with 1 Axes>"
            ],
            "image/png": "[encoded data removed]"
          },
          "metadata": {}
        }
      ],
      "source": [
        "C = 6\n",
        "\n",
        "pyplot.figure(figsize=(16, 8))\n",
        "\n",
        "# строим вертикальные столбцы от 0 до вероятности\n",
        "pyplot.vlines(x_grid, 0, probs, linewidth=15.0, color='white', label='PMF, $Binom(0.5, 30)$')\n",
        "# отдельно изобразим критическую области критерия\n",
        "crit_reg = numpy.abs(x_grid - 15) >= C\n",
        "pyplot.vlines(x_grid[crit_reg], 0, probs[crit_reg], linewidth=15.0, label='Critical region for S')\n",
        "\n",
        "rejection_prob = probs[crit_reg].sum()\n",
        "pyplot.title('Two-sided criteria, C = {}, critical region proba = {:.3f}'.format(C, rejection_prob), fontsize=20)\n",
        "pyplot.legend(fontsize=18)\n",
        "pyplot.show()"
      ]
    },
    {
      "cell_type": "markdown",
      "id": "b9f40b8a",
      "metadata": {
        "id": "b9f40b8a"
      },
      "source": [
        "По картинке видно, что если теперь отвергать отклонения при $Q \\geqslant 20$, то необходимо отвергать и $Q \\leqslant 10$, а значит общая площадь столбцов будет уже примерно $0.1$. Поэтому при уровне значимости $0.05$ и $20$ успехах гипотеза уже не отвергнется.\n",
        "\n",
        "Если же выставить $C = 6$, то такая область уже подходит, площадь столбцов $\\approx 0.043 < 0.05$\n",
        "\n",
        "Чтобы выбрать пороговую константу по формуле, можно заметить, что критическая область симметрична, а значит справа площадь не должна быть больше, чем $\\frac{\\alpha}{2}$. А такую задачу мы уже умеем решать. Реализуем функцию на Python."
      ]
    },
    {
      "cell_type": "code",
      "execution_count": null,
      "id": "0c23c057",
      "metadata": {
        "id": "0c23c057"
      },
      "outputs": [],
      "source": [
        "def make_binom_criterion_two_sided(n, alpha=0.05):\n",
        "    '''Строит критерий для задачи с доставкой для mu = 0.5 и двусторонней альтернативы\n",
        "\n",
        "    Параметры:\n",
        "        n: количество доставок в эксперименте\n",
        "        mu: вероятность успеха в нулевой гипотезе\n",
        "        alpha: уровень значимости критерия\n",
        "\n",
        "    Возвращает:\n",
        "        C для критерия S = {|Q - 15| >= C}\n",
        "    '''\n",
        "    # определяем границу справа для alpha / 2\n",
        "    right_crit_val = make_binom_criterion(n, mu=0.5, alpha = alpha / 2)\n",
        "    # считаем отклонение, начиная с которого отвергать\n",
        "    diff = right_crit_val - 15\n",
        "    return diff"
      ]
    },
    {
      "cell_type": "code",
      "execution_count": null,
      "id": "19e0a4a2",
      "metadata": {
        "colab": {
          "base_uri": "https://localhost:8080/"
        },
        "id": "19e0a4a2",
        "outputId": "e85c7cb1-5946-4370-e7b5-28968599a65c"
      },
      "outputs": [
        {
          "output_type": "execute_result",
          "data": {
            "text/plain": [
              "np.float64(6.0)"
            ]
          },
          "metadata": {},
          "execution_count": 34
        }
      ],
      "source": [
        "make_binom_criterion_two_sided(30)"
      ]
    },
    {
      "cell_type": "markdown",
      "id": "7cc06fbe",
      "metadata": {
        "id": "7cc06fbe"
      },
      "source": [
        "Получили то же, что и по картинке."
      ]
    },
    {
      "cell_type": "markdown",
      "id": "c7f18323",
      "metadata": {
        "id": "c7f18323"
      },
      "source": [
        "### Как считать p-value"
      ]
    },
    {
      "cell_type": "markdown",
      "id": "16e7cf34",
      "metadata": {
        "id": "16e7cf34"
      },
      "source": [
        "Критерий имеет вид\n",
        "\n",
        "$$ S = \\{|Q(\\xi) - 15| \\geqslant C\\} $$\n",
        "\n",
        "Обозначим отклонение суммы от 15 как $ \\Delta(\\xi) =  |Q(\\xi) - 15| $, тогда мы имеем критерий\n",
        "\n",
        "$$ S = \\{\\Delta(\\xi) \\geqslant C\\} $$\n",
        "\n",
        "То есть более экстремальными будут считаться те значения суммы, которые находятся дальше от 15. Чтобы вычислить p-value, придётся посчитать сумму площадей с двух сторон по-отдельности."
      ]
    },
    {
      "cell_type": "code",
      "execution_count": null,
      "id": "72d27d8f",
      "metadata": {
        "id": "72d27d8f"
      },
      "outputs": [],
      "source": [
        "def pvalue_two_sided_sym(n, q):\n",
        "    '''Считает pvalue для задачи с доставкой для mu = 0.5 и двусторонней альтернативы\n",
        "\n",
        "    Параметры:\n",
        "        n: количество доставок в эксперименте\n",
        "        q: количество успешных доставок\n",
        "\n",
        "    Возвращает:\n",
        "        pvalue для критерия S = {|Q - 15| >= C}\n",
        "    '''\n",
        "    binom_h0 = binom(n=n, p=0.5)\n",
        "    diff = numpy.abs(q - 15)\n",
        "    # смотрим более экстремальные отклонения с правой стороны\n",
        "    right_sq = 1 - binom_h0.cdf(15 + diff - 1)\n",
        "    # смотрим более экстремальные отклонения с левой стороны\n",
        "    left_sq = binom_h0.cdf(15 - diff)\n",
        "    return left_sq + right_sq"
      ]
    },
    {
      "cell_type": "markdown",
      "id": "ea134659",
      "metadata": {
        "id": "ea134659"
      },
      "source": [
        "На самом деле в силу симметричности распределения левая и правая площадь получаются одинаковыми, поэтому можно посчитать площадь с одной стороны и умножить на 2."
      ]
    },
    {
      "cell_type": "code",
      "execution_count": null,
      "id": "33cf3e33",
      "metadata": {
        "id": "33cf3e33"
      },
      "outputs": [],
      "source": [
        "def pvalue_two_sided_sym_simple(n, q):\n",
        "    '''Считает pvalue для задачи с доставкой для mu = 0.5 и двусторонней альтернативы\n",
        "\n",
        "    Параметры:\n",
        "        n: количество доставок в эксперименте\n",
        "        q: количество успешных доставок\n",
        "\n",
        "    Возвращает:\n",
        "        pvalue для критерия S = {|Q - 15| >= C}\n",
        "    '''\n",
        "    binom_h0 = binom(n=n, p=0.5)\n",
        "    diff = numpy.abs(q - 15)\n",
        "    # смотрим более экстремальные отклонения с правой стороны\n",
        "    right_sq = 1 - binom_h0.cdf(15 + diff - 1)\n",
        "    return 2 * right_sq"
      ]
    },
    {
      "cell_type": "code",
      "execution_count": null,
      "id": "ab687f0c",
      "metadata": {
        "colab": {
          "base_uri": "https://localhost:8080/"
        },
        "id": "ab687f0c",
        "outputId": "9895096a-964d-4473-f4c8-7e3566ad6d46"
      },
      "outputs": [
        {
          "output_type": "execute_result",
          "data": {
            "text/plain": [
              "np.float64(0.04277394525706769)"
            ]
          },
          "metadata": {},
          "execution_count": 37
        }
      ],
      "source": [
        "pvalue_two_sided_sym(n=30, q=21)"
      ]
    },
    {
      "cell_type": "code",
      "execution_count": null,
      "id": "035237ba",
      "metadata": {
        "colab": {
          "base_uri": "https://localhost:8080/"
        },
        "id": "035237ba",
        "outputId": "86af36e2-3d8b-45e0-f19d-6c9ccdfc7f18"
      },
      "outputs": [
        {
          "output_type": "execute_result",
          "data": {
            "text/plain": [
              "np.float64(0.04277394525706768)"
            ]
          },
          "metadata": {},
          "execution_count": 38
        }
      ],
      "source": [
        "pvalue_two_sided_sym_simple(n=30, q=21)"
      ]
    },
    {
      "cell_type": "markdown",
      "id": "91732314",
      "metadata": {
        "id": "91732314"
      },
      "source": [
        "Теперь даже в случае $20$ орлов $pvalue > 0.05$, поэтому отвергать будем значения, начиная с $21$ и меньше либо равные $9$."
      ]
    },
    {
      "cell_type": "markdown",
      "id": "064494b6",
      "metadata": {
        "id": "064494b6"
      },
      "source": [
        "### Случай с несимметричным распределением"
      ]
    },
    {
      "cell_type": "markdown",
      "id": "609f31af",
      "metadata": {
        "id": "609f31af"
      },
      "source": [
        "Когда распределение при справедливости $\\mathsf{H}_0$ несимметрично, отклонения от ожидаемого значения в разные стороны могут быть по-разному критичны. В качестве примера рассмотрим также биномиальное распределение, но с вероятностью успеха $0.8$.\n",
        "\n",
        "Тогда можно левую и правую критические области построить отдельно, выделив на них по $\\frac{\\alpha}{2}$ площади. Правую область мы уже умеем искать, найдём левую."
      ]
    },
    {
      "cell_type": "code",
      "execution_count": null,
      "id": "119b12d8",
      "metadata": {
        "id": "119b12d8"
      },
      "outputs": [],
      "source": [
        "binom_h0_nonsym = binom(\n",
        "    n=30, # количество испытаний\n",
        "    p=0.8 # вероятность успеха\n",
        ")"
      ]
    },
    {
      "cell_type": "code",
      "execution_count": null,
      "id": "b0b428de",
      "metadata": {
        "colab": {
          "base_uri": "https://localhost:8080/",
          "height": 707
        },
        "id": "b0b428de",
        "outputId": "b348f4bb-a5c6-4e49-b71d-4f987786760c"
      },
      "outputs": [
        {
          "output_type": "display_data",
          "data": {
            "text/plain": [
              "<Figure size 1600x800 with 1 Axes>"
            ],
            "image/png": "[encoded data removed]"
          },
          "metadata": {}
        }
      ],
      "source": [
        "pyplot.figure(figsize=(16, 8))\n",
        "\n",
        "# считаем вероятности значений суммы\n",
        "probs = binom_h0_nonsym.pmf(x_grid)\n",
        "# строим вертикальные столбцы от 0 до вероятности\n",
        "pyplot.vlines(x_grid, 0, probs, linewidth=15.0, color='white', label='PMF, $Binom(0.8, 30)$')\n",
        "\n",
        "pyplot.title('Binomial distribution', fontsize=20)\n",
        "pyplot.legend(fontsize=18)\n",
        "pyplot.show()"
      ]
    },
    {
      "cell_type": "markdown",
      "id": "561e5924",
      "metadata": {
        "id": "561e5924"
      },
      "source": [
        "Для того, чтобы построить двусторонний критерий, нужно найти слева и справа области, площадь которых составляет не больше, чем $\\frac{\\alpha}{2}$. Для правой стороны мы уже решали такую задачу, решим для левой.\n",
        "\n",
        "Ищем $C$, такое что\n",
        "\n",
        "$$ P(Q(\\xi) \\leqslant C) \\leqslant \\frac{\\alpha}{2} $$\n",
        "\n",
        "Сначала найдём первое число, где вероятность $\\geqslant \\frac{\\alpha}{2}$. А это по определению $\\frac{\\alpha}{2}$-квантиль. Достаточно взять предыдущее число, и оно будет удовлетворять нашему условию."
      ]
    },
    {
      "cell_type": "code",
      "execution_count": null,
      "id": "ee4d5407",
      "metadata": {
        "id": "ee4d5407"
      },
      "outputs": [],
      "source": [
        "def two_sided_criterion_nonsym(n, mu, alpha):\n",
        "    '''Строит двусторонний критерий для несимметричной задачи с доставкой\n",
        "\n",
        "    Параметры:\n",
        "        n: количество доставок в эксперименте\n",
        "        mu: вероятность успеха в нулевой гипотезе\n",
        "        alpha: уровень значимости критерия\n",
        "\n",
        "    Возвращает:\n",
        "        C1, C2 для критерия S = {Q <= C1 или Q >= C2}\n",
        "    '''\n",
        "    binom_h0 = binom(n=n, p=mu)\n",
        "\n",
        "    # аналогично одностороннему критерию\n",
        "    c2 = binom_h0.ppf(1 - alpha/2) + 1\n",
        "\n",
        "    # по выкладкам выше\n",
        "    c1 = binom_h0.ppf(alpha/2) - 1\n",
        "\n",
        "    return c1, c2"
      ]
    },
    {
      "cell_type": "code",
      "execution_count": null,
      "id": "7c6ee411",
      "metadata": {
        "id": "7c6ee411"
      },
      "outputs": [],
      "source": [
        "c1, c2 = two_sided_criterion_nonsym(30, 0.8, 0.05)"
      ]
    },
    {
      "cell_type": "code",
      "execution_count": null,
      "id": "9a7d6b3a",
      "metadata": {
        "colab": {
          "base_uri": "https://localhost:8080/"
        },
        "id": "9a7d6b3a",
        "outputId": "c1809760-80d3-4c93-ac95-3b0833f0af08"
      },
      "outputs": [
        {
          "output_type": "execute_result",
          "data": {
            "text/plain": [
              "(np.float64(18.0), np.float64(29.0))"
            ]
          },
          "metadata": {},
          "execution_count": 43
        }
      ],
      "source": [
        "c1, c2"
      ]
    },
    {
      "cell_type": "markdown",
      "id": "9109aa9c",
      "metadata": {
        "id": "9109aa9c"
      },
      "source": [
        "Значит наш критерий для проверки гипотезы\n",
        "\n",
        "$$ \\mathsf{H}_0: \\mu = 0.8 $$\n",
        "$$ \\mathsf{H}_1: \\mu \\neq 0.8 $$\n",
        "\n",
        "имеет вид\n",
        "\n",
        "$$ S = \\{Q(\\xi) \\leqslant 18\\} \\cup \\{Q(\\xi) \\geqslant 29\\}$$\n",
        "\n",
        "Здесь граница $29$ уже выглядит логично, потому что надо опровергнуть 80% орлов/успехов, а для этого требуется большое их количество."
      ]
    },
    {
      "cell_type": "markdown",
      "id": "63e5d5a7",
      "metadata": {
        "id": "63e5d5a7"
      },
      "source": [
        "Изобразим критическую область на графике."
      ]
    },
    {
      "cell_type": "code",
      "execution_count": null,
      "id": "60dacea6",
      "metadata": {
        "colab": {
          "base_uri": "https://localhost:8080/",
          "height": 707
        },
        "id": "60dacea6",
        "outputId": "797531ff-89ca-46dc-9a01-b4367b42742a"
      },
      "outputs": [
        {
          "output_type": "display_data",
          "data": {
            "text/plain": [
              "<Figure size 1600x800 with 1 Axes>"
            ],
            "image/png": "[encoded data removed]"
          },
          "metadata": {}
        }
      ],
      "source": [
        "pyplot.figure(figsize=(16, 8))\n",
        "\n",
        "# считаем вероятности значений суммы\n",
        "probs = binom_h0_nonsym.pmf(x_grid)\n",
        "# строим вертикальные столбцы от 0 до вероятности\n",
        "pyplot.vlines(x_grid, 0, probs, linewidth=15.0, color='white', label='PMF, $Binom(0.5, 30)$')\n",
        "# отдельно изобразим критическую области критерия\n",
        "crit_reg = (x_grid >= 29) | (x_grid <= 18)\n",
        "pyplot.vlines(x_grid[crit_reg], 0, probs[crit_reg], linewidth=15.0, label='Critical region for S')\n",
        "\n",
        "pyplot.title('Binomial distribution', fontsize=20)\n",
        "pyplot.legend(fontsize=18, loc='upper left')\n",
        "pyplot.show()"
      ]
    },
    {
      "cell_type": "markdown",
      "id": "29511eef",
      "metadata": {
        "id": "29511eef"
      },
      "source": [
        "### p-value для несимметричного распределения\n",
        "\n",
        "Этот критерий &mdash; объединение двух критериев уровня значимости $\\frac{\\alpha}{2}$, для каждого из которых можно посчитать p-value. Обозначим их как $p_1, p_2$. Первый критерий отвергается при $p_1 \\leqslant \\frac{\\alpha}{2}$, второй при $p_2 \\leqslant \\frac{\\alpha}{2}$. А наш объединённый, когда выполнено одно из этих условий, то есть\n",
        "\n",
        "$$ 2p_1 \\leqslant \\alpha \\vee 2p_2 \\leqslant \\alpha \\Leftrightarrow 2 \\cdot \\min(p_1, p_2, 0.5) \\leqslant \\alpha $$\n",
        "\n",
        "Значит можно считать pvalue как $2  \\min(p_1, p_2, 0.5)$ и сравнивать с $\\alpha$.\n",
        "\n",
        "Проведём аналогию с симметричным случаем: если сумма оказалась в левой части, то нужно посчитать p-value левого критерия и умножить на 2. Если сумма оказалась в правой части, то нужно посчитать p-value правого критерия и умножить на 2."
      ]
    },
    {
      "cell_type": "code",
      "execution_count": null,
      "id": "6830ba6b",
      "metadata": {
        "id": "6830ba6b"
      },
      "outputs": [],
      "source": [
        "def pvalue_two_sided(n, q, mu=0.5):\n",
        "    '''Считает pvalue для двусторонней альтернативы в задаче с доставкой\n",
        "\n",
        "    Параметры:\n",
        "        n: количество доставок в эксперименте\n",
        "        q: количество успешных доставок\n",
        "        mu: вероятность успеха при H0\n",
        "\n",
        "    Возвращает:\n",
        "        pvalue для двустороннего критерия\n",
        "    '''\n",
        "    binom_h0 = binom(n=n, p=mu)\n",
        "    # считаем для левой части\n",
        "    pvalue_left = binom_h0.cdf(q)\n",
        "    # считаем для правой части\n",
        "    pvalue_right = 1 - binom_h0.cdf(q - 1)\n",
        "    # вычисляем формулу\n",
        "    return 2 * min(pvalue_left, pvalue_right, 0.5)"
      ]
    },
    {
      "cell_type": "markdown",
      "id": "c268e84a",
      "metadata": {
        "id": "c268e84a"
      },
      "source": [
        "Посчитаем p-value для $q = 28$"
      ]
    },
    {
      "cell_type": "code",
      "execution_count": null,
      "id": "5a0f15bf",
      "metadata": {
        "colab": {
          "base_uri": "https://localhost:8080/"
        },
        "id": "5a0f15bf",
        "outputId": "9fc99b2b-9b10-42a7-ad55-73fd4895dec6"
      },
      "outputs": [
        {
          "output_type": "execute_result",
          "data": {
            "text/plain": [
              "np.float64(0.08835797030399406)"
            ]
          },
          "metadata": {},
          "execution_count": 46
        }
      ],
      "source": [
        "pvalue_two_sided(n=30, q=28, mu=0.8)"
      ]
    },
    {
      "cell_type": "markdown",
      "id": "fb6fce41",
      "metadata": {
        "id": "fb6fce41"
      },
      "source": [
        "Видно, что $p-value > 0.05$, значит на уровне значимости $0.05$ даже $28$ успехов недостаточно, чтобы отвергнуть вероятность успеха в $80\\%$."
      ]
    },
    {
      "cell_type": "markdown",
      "id": "09f85389",
      "metadata": {
        "id": "09f85389"
      },
      "source": [
        "Заметим, что эта же функция работает и для симметричного случая, возвращая тот же результат"
      ]
    },
    {
      "cell_type": "code",
      "execution_count": null,
      "id": "65ab23ed",
      "metadata": {
        "colab": {
          "base_uri": "https://localhost:8080/"
        },
        "id": "65ab23ed",
        "outputId": "bb36f79d-896c-4eeb-e1f3-4ee250bd4a1d"
      },
      "outputs": [
        {
          "output_type": "execute_result",
          "data": {
            "text/plain": [
              "np.float64(0.09873714670538902)"
            ]
          },
          "metadata": {},
          "execution_count": 47
        }
      ],
      "source": [
        "pvalue_two_sided(n=30, q=20, mu=0.5)"
      ]
    },
    {
      "cell_type": "code",
      "execution_count": null,
      "id": "9e51f3b8",
      "metadata": {
        "colab": {
          "base_uri": "https://localhost:8080/"
        },
        "id": "9e51f3b8",
        "outputId": "a9eac949-7b2a-47bb-e061-631a2471e733"
      },
      "outputs": [
        {
          "output_type": "execute_result",
          "data": {
            "text/plain": [
              "np.float64(0.09873714670538904)"
            ]
          },
          "metadata": {},
          "execution_count": 48
        }
      ],
      "source": [
        "pvalue_two_sided_sym(n=30, q=20)"
      ]
    },
    {
      "cell_type": "markdown",
      "id": "059abb3e",
      "metadata": {
        "id": "059abb3e"
      },
      "source": [
        "### Итог\n",
        "\n",
        "Мы построили функции, которые для выборки из распределения Бернулли позволяют проверить гипотезу $\\mathsf{H}_0: \\mu = M$ для случая правосторонней и двухсторонней альтернатив на любом уровне значимости и размере выборки."
      ]
    },
    {
      "cell_type": "markdown",
      "source": [
        "# Домашнее задание по статистике\n",
        "\n",
        "## Часть 1: Теоретические вопросы\n",
        "\n",
        "1. Объясни, зачем нужна прикладная статистика, на примерах из трёх различных сфер (например, медицина, бизнес, инженерия)."
      ],
      "metadata": {
        "id": "rVmY2B-pT1Y9"
      },
      "id": "rVmY2B-pT1Y9"
    },
    {
      "cell_type": "markdown",
      "source": [
        "<details>\n",
        "  <summary>Нажми, чтобы развернуть</summary>\n",
        "В медицине статистика нужна чтобы определять вероятность болезни поциенту. То есть, если известно, что вероятность заболевания $0.5\\%$ для детей от 5 - 12 лет раком, то можно исследовать болезни. В бизнесе можно сравнивать изменения сайта, скидки, акции и т.д. для привлечения клиентов. В инженерии можно оценивать вероятность поломки и замены оборудования.\n",
        "</details>"
      ],
      "metadata": {
        "id": "qhKpvlQdT6HE"
      },
      "id": "qhKpvlQdT6HE"
    },
    {
      "cell_type": "markdown",
      "source": [
        "2. Что такое статистическая гипотеза? В чём разница между нулевой и альтернативной гипотезами? Приведи пример."
      ],
      "metadata": {
        "id": "y5bhcvYiUHYk"
      },
      "id": "y5bhcvYiUHYk"
    },
    {
      "cell_type": "markdown",
      "source": [
        "<details>\n",
        "  <summary>Нажми, чтобы развернуть</summary>\n",
        "Гипотеза - предположение о виде распределения и свойствах случайной величины, которое можно подтвердить или опровергнуть применением статистических методов к данным выборки. Нулевая гипотеза - это гипотеза, что полученные данные из текущего распределения с текущими свойствами с.в., а альтернативаная гипотеза, что данные из другого распределения с другими свойствами с.в.\n",
        "\n",
        "</details>"
      ],
      "metadata": {
        "id": "MsbJy8oRUKWc"
      },
      "id": "MsbJy8oRUKWc"
    },
    {
      "cell_type": "markdown",
      "source": [
        "3. В чём отличие p-значения от уровня значимости? Как интерпретировать p-значение в контексте проверки гипотез?"
      ],
      "metadata": {
        "id": "D3UGXGiHUO-y"
      },
      "id": "D3UGXGiHUO-y"
    },
    {
      "cell_type": "markdown",
      "source": [
        "<details>\n",
        "  <summary>Нажми, чтобы развернуть</summary>\n",
        " P-value показывает вероятность получить исходные значения и экстремальные про гипотезе $H_0$, а уровень значимости показывает насколько процентов мы готовы ошибиться, отвергая $H_0$. Если P-value меньше либо равен уровню значимости, то мы отклоняем $H_0$, а если большо, то не отклоняем $H_0$.\n",
        "</details>"
      ],
      "metadata": {
        "id": "F56WSzXnUTAn"
      },
      "id": "F56WSzXnUTAn"
    },
    {
      "cell_type": "markdown",
      "source": [
        "4. Опиши, как работает двусторонний критерий. В каких ситуациях его следует применять?"
      ],
      "metadata": {
        "id": "8l1doNmAUU2o"
      },
      "id": "8l1doNmAUU2o"
    },
    {
      "cell_type": "markdown",
      "source": [
        "<details>\n",
        "  <summary>Нажми, чтобы развернуть</summary>\n",
        "$H_0$: параметр (например, среднее) имеет определённое значение.\n",
        "\n",
        "$H_1$: параметр отличается от этого значения в любую сторону (больше или меньше).\n",
        "\n",
        "Двусторонний критерий применяется, когда нас интересует любое отклонение от гипотетического значения, а не только в одну сторону.\n",
        "</details>"
      ],
      "metadata": {
        "id": "rlGPrJGoUY7T"
      },
      "id": "rlGPrJGoUY7T"
    },
    {
      "cell_type": "markdown",
      "source": [
        "## Часть 2: Практические задачи\n",
        "\n",
        "### Задача 1: Проверка гипотезы о среднем\n",
        "\n",
        "В файле `heights.csv` содержатся значения роста людей из двух разных городов (столбцы `city_1` и `city_2`).\n",
        "\n",
        "- Проверь гипотезу $H_0: \\mu_1 = \\mu_2$(средние значения роста в двух городах одинаковые) против $H_1: \\mu_1 \\neq \\mu_2$ с уровнем значимости 5%.\n",
        "- Используй двусторонний t-критерий для независимых выборок.\n",
        "- Построй доверительный интервал для разницы средних.\n",
        "- Сделай вывод о значимости различий между городами."
      ],
      "metadata": {
        "id": "Hgk13rbtUs4S"
      },
      "id": "Hgk13rbtUs4S"
    },
    {
      "cell_type": "code",
      "source": [
        "import pandas as pd\n",
        "import numpy as np\n",
        "import matplotlib.pyplot as plt"
      ],
      "metadata": {
        "id": "XNKiYRMQV5X4"
      },
      "id": "XNKiYRMQV5X4",
      "execution_count": 7,
      "outputs": []
    },
    {
      "cell_type": "code",
      "source": [
        "!wget https://raw.githubusercontent.com/Temablag/Applied-Statistics/main/statistical_criteria/heights.csv\n",
        "df = pd.read_csv(\"heights.csv\")"
      ],
      "metadata": {
        "colab": {
          "base_uri": "https://localhost:8080/"
        },
        "id": "ffWqGFwTVm_e",
        "outputId": "d980aa96-b9c8-40f1-9f9d-7f69a19e4f6f"
      },
      "id": "ffWqGFwTVm_e",
      "execution_count": null,
      "outputs": [
        {
          "output_type": "stream",
          "name": "stdout",
          "text": [
            "--2025-03-22 18:45:34--  https://raw.githubusercontent.com/Temablag/Applied-Statistics/main/statistical_criteria/heights.csv\n",
            "Resolving raw.githubusercontent.com (raw.githubusercontent.com)... 185.199.108.133, 185.199.109.133, 185.199.110.133, ...\n",
            "Connecting to raw.githubusercontent.com (raw.githubusercontent.com)|185.199.108.133|:443... connected.\n",
            "HTTP request sent, awaiting response... 200 OK\n",
            "Length: 7503 (7.3K) [text/plain]\n",
            "Saving to: ‘heights.csv’\n",
            "\n",
            "heights.csv         100%[===================>]   7.33K  --.-KB/s    in 0s      \n",
            "\n",
            "2025-03-22 18:45:34 (57.1 MB/s) - ‘heights.csv’ saved [7503/7503]\n",
            "\n"
          ]
        }
      ]
    },
    {
      "cell_type": "code",
      "source": [
        "alpha = 0.05"
      ],
      "metadata": {
        "id": "VuR0KLutZYvI"
      },
      "id": "VuR0KLutZYvI",
      "execution_count": null,
      "outputs": []
    },
    {
      "cell_type": "code",
      "source": [
        "df.head()"
      ],
      "metadata": {
        "colab": {
          "base_uri": "https://localhost:8080/",
          "height": 204
        },
        "id": "Bb_kL69YWKw4",
        "outputId": "ea4d4cff-9e60-44f5-9b1c-ad0788ae6f87"
      },
      "id": "Bb_kL69YWKw4",
      "execution_count": null,
      "outputs": [
        {
          "output_type": "execute_result",
          "data": {
            "text/plain": [
              "       city_1      city_2\n",
              "0  174.967142  175.577874\n",
              "1  168.617357  177.607845\n",
              "2  176.476885  182.830512\n",
              "3  185.230299  182.538021\n",
              "4  167.658466  158.223306"
            ],
            "text/html": [
              "\n",
              "  <div id=\"df-46c7a22c-b0d8-47c2-83fc-63899eeeef61\" class=\"colab-df-container\">\n",
              "    <div>\n",
              "<style scoped>\n",
              "    .dataframe tbody tr th:only-of-type {\n",
              "        vertical-align: middle;\n",
              "    }\n",
              "\n",
              "    .dataframe tbody tr th {\n",
              "        vertical-align: top;\n",
              "    }\n",
              "\n",
              "    .dataframe thead th {\n",
              "        text-align: right;\n",
              "    }\n",
              "</style>\n",
              "<table border=\"1\" class=\"dataframe\">\n",
              "  <thead>\n",
              "    <tr style=\"text-align: right;\">\n",
              "      <th></th>\n",
              "      <th>city_1</th>\n",
              "      <th>city_2</th>\n",
              "    </tr>\n",
              "  </thead>\n",
              "  <tbody>\n",
              "    <tr>\n",
              "      <th>0</th>\n",
              "      <td>174.967142</td>\n",
              "      <td>175.577874</td>\n",
              "    </tr>\n",
              "    <tr>\n",
              "      <th>1</th>\n",
              "      <td>168.617357</td>\n",
              "      <td>177.607845</td>\n",
              "    </tr>\n",
              "    <tr>\n",
              "      <th>2</th>\n",
              "      <td>176.476885</td>\n",
              "      <td>182.830512</td>\n",
              "    </tr>\n",
              "    <tr>\n",
              "      <th>3</th>\n",
              "      <td>185.230299</td>\n",
              "      <td>182.538021</td>\n",
              "    </tr>\n",
              "    <tr>\n",
              "      <th>4</th>\n",
              "      <td>167.658466</td>\n",
              "      <td>158.223306</td>\n",
              "    </tr>\n",
              "  </tbody>\n",
              "</table>\n",
              "</div>\n",
              "    <div class=\"colab-df-buttons\">\n",
              "\n",
              "  <div class=\"colab-df-container\">\n",
              "    <button class=\"colab-df-convert\" onclick=\"convertToInteractive('df-46c7a22c-b0d8-47c2-83fc-63899eeeef61')\"\n",
              "            title=\"Convert this dataframe to an interactive table.\"\n",
              "            style=\"display:none;\">\n",
              "\n",
              "  <svg xmlns=\"http://www.w3.org/2000/svg\" height=\"24px\" viewBox=\"0 -960 960 960\">\n",
              "    <path d=\"M120-120v-720h720v720H120Zm60-500h600v-160H180v160Zm220 220h160v-160H400v160Zm0 220h160v-160H400v160ZM180-400h160v-160H180v160Zm440 0h160v-160H620v160ZM180-180h160v-160H180v160Zm440 0h160v-160H620v160Z\"/>\n",
              "  </svg>\n",
              "    </button>\n",
              "\n",
              "  <style>\n",
              "    .colab-df-container {\n",
              "      display:flex;\n",
              "      gap: 12px;\n",
              "    }\n",
              "\n",
              "    .colab-df-convert {\n",
              "      background-color: #E8F0FE;\n",
              "      border: none;\n",
              "      border-radius: 50%;\n",
              "      cursor: pointer;\n",
              "      display: none;\n",
              "      fill: #1967D2;\n",
              "      height: 32px;\n",
              "      padding: 0 0 0 0;\n",
              "      width: 32px;\n",
              "    }\n",
              "\n",
              "    .colab-df-convert:hover {\n",
              "      background-color: #E2EBFA;\n",
              "      box-shadow: 0px 1px 2px rgba(60, 64, 67, 0.3), 0px 1px 3px 1px rgba(60, 64, 67, 0.15);\n",
              "      fill: #174EA6;\n",
              "    }\n",
              "\n",
              "    .colab-df-buttons div {\n",
              "      margin-bottom: 4px;\n",
              "    }\n",
              "\n",
              "    [theme=dark] .colab-df-convert {\n",
              "      background-color: #3B4455;\n",
              "      fill: #D2E3FC;\n",
              "    }\n",
              "\n",
              "    [theme=dark] .colab-df-convert:hover {\n",
              "      background-color: #434B5C;\n",
              "      box-shadow: 0px 1px 3px 1px rgba(0, 0, 0, 0.15);\n",
              "      filter: drop-shadow(0px 1px 2px rgba(0, 0, 0, 0.3));\n",
              "      fill: #FFFFFF;\n",
              "    }\n",
              "  </style>\n",
              "\n",
              "    <script>\n",
              "      const buttonEl =\n",
              "        document.querySelector('#df-46c7a22c-b0d8-47c2-83fc-63899eeeef61 button.colab-df-convert');\n",
              "      buttonEl.style.display =\n",
              "        google.colab.kernel.accessAllowed ? 'block' : 'none';\n",
              "\n",
              "      async function convertToInteractive(key) {\n",
              "        const element = document.querySelector('#df-46c7a22c-b0d8-47c2-83fc-63899eeeef61');\n",
              "        const dataTable =\n",
              "          await google.colab.kernel.invokeFunction('convertToInteractive',\n",
              "                                                    [key], {});\n",
              "        if (!dataTable) return;\n",
              "\n",
              "        const docLinkHtml = 'Like what you see? Visit the ' +\n",
              "          '<a target=\"_blank\" href=https://colab.research.google.com/notebooks/data_table.ipynb>data table notebook</a>'\n",
              "          + ' to learn more about interactive tables.';\n",
              "        element.innerHTML = '';\n",
              "        dataTable['output_type'] = 'display_data';\n",
              "        await google.colab.output.renderOutput(dataTable, element);\n",
              "        const docLink = document.createElement('div');\n",
              "        docLink.innerHTML = docLinkHtml;\n",
              "        element.appendChild(docLink);\n",
              "      }\n",
              "    </script>\n",
              "  </div>\n",
              "\n",
              "\n",
              "<div id=\"df-887c48eb-8d09-4e89-8973-c862f7cdf52f\">\n",
              "  <button class=\"colab-df-quickchart\" onclick=\"quickchart('df-887c48eb-8d09-4e89-8973-c862f7cdf52f')\"\n",
              "            title=\"Suggest charts\"\n",
              "            style=\"display:none;\">\n",
              "\n",
              "<svg xmlns=\"http://www.w3.org/2000/svg\" height=\"24px\"viewBox=\"0 0 24 24\"\n",
              "     width=\"24px\">\n",
              "    <g>\n",
              "        <path d=\"M19 3H5c-1.1 0-2 .9-2 2v14c0 1.1.9 2 2 2h14c1.1 0 2-.9 2-2V5c0-1.1-.9-2-2-2zM9 17H7v-7h2v7zm4 0h-2V7h2v10zm4 0h-2v-4h2v4z\"/>\n",
              "    </g>\n",
              "</svg>\n",
              "  </button>\n",
              "\n",
              "<style>\n",
              "  .colab-df-quickchart {\n",
              "      --bg-color: #E8F0FE;\n",
              "      --fill-color: #1967D2;\n",
              "      --hover-bg-color: #E2EBFA;\n",
              "      --hover-fill-color: #174EA6;\n",
              "      --disabled-fill-color: #AAA;\n",
              "      --disabled-bg-color: #DDD;\n",
              "  }\n",
              "\n",
              "  [theme=dark] .colab-df-quickchart {\n",
              "      --bg-color: #3B4455;\n",
              "      --fill-color: #D2E3FC;\n",
              "      --hover-bg-color: #434B5C;\n",
              "      --hover-fill-color: #FFFFFF;\n",
              "      --disabled-bg-color: #3B4455;\n",
              "      --disabled-fill-color: #666;\n",
              "  }\n",
              "\n",
              "  .colab-df-quickchart {\n",
              "    background-color: var(--bg-color);\n",
              "    border: none;\n",
              "    border-radius: 50%;\n",
              "    cursor: pointer;\n",
              "    display: none;\n",
              "    fill: var(--fill-color);\n",
              "    height: 32px;\n",
              "    padding: 0;\n",
              "    width: 32px;\n",
              "  }\n",
              "\n",
              "  .colab-df-quickchart:hover {\n",
              "    background-color: var(--hover-bg-color);\n",
              "    box-shadow: 0 1px 2px rgba(60, 64, 67, 0.3), 0 1px 3px 1px rgba(60, 64, 67, 0.15);\n",
              "    fill: var(--button-hover-fill-color);\n",
              "  }\n",
              "\n",
              "  .colab-df-quickchart-complete:disabled,\n",
              "  .colab-df-quickchart-complete:disabled:hover {\n",
              "    background-color: var(--disabled-bg-color);\n",
              "    fill: var(--disabled-fill-color);\n",
              "    box-shadow: none;\n",
              "  }\n",
              "\n",
              "  .colab-df-spinner {\n",
              "    border: 2px solid var(--fill-color);\n",
              "    border-color: transparent;\n",
              "    border-bottom-color: var(--fill-color);\n",
              "    animation:\n",
              "      spin 1s steps(1) infinite;\n",
              "  }\n",
              "\n",
              "  @keyframes spin {\n",
              "    0% {\n",
              "      border-color: transparent;\n",
              "      border-bottom-color: var(--fill-color);\n",
              "      border-left-color: var(--fill-color);\n",
              "    }\n",
              "    20% {\n",
              "      border-color: transparent;\n",
              "      border-left-color: var(--fill-color);\n",
              "      border-top-color: var(--fill-color);\n",
              "    }\n",
              "    30% {\n",
              "      border-color: transparent;\n",
              "      border-left-color: var(--fill-color);\n",
              "      border-top-color: var(--fill-color);\n",
              "      border-right-color: var(--fill-color);\n",
              "    }\n",
              "    40% {\n",
              "      border-color: transparent;\n",
              "      border-right-color: var(--fill-color);\n",
              "      border-top-color: var(--fill-color);\n",
              "    }\n",
              "    60% {\n",
              "      border-color: transparent;\n",
              "      border-right-color: var(--fill-color);\n",
              "    }\n",
              "    80% {\n",
              "      border-color: transparent;\n",
              "      border-right-color: var(--fill-color);\n",
              "      border-bottom-color: var(--fill-color);\n",
              "    }\n",
              "    90% {\n",
              "      border-color: transparent;\n",
              "      border-bottom-color: var(--fill-color);\n",
              "    }\n",
              "  }\n",
              "</style>\n",
              "\n",
              "  <script>\n",
              "    async function quickchart(key) {\n",
              "      const quickchartButtonEl =\n",
              "        document.querySelector('#' + key + ' button');\n",
              "      quickchartButtonEl.disabled = true;  // To prevent multiple clicks.\n",
              "      quickchartButtonEl.classList.add('colab-df-spinner');\n",
              "      try {\n",
              "        const charts = await google.colab.kernel.invokeFunction(\n",
              "            'suggestCharts', [key], {});\n",
              "      } catch (error) {\n",
              "        console.error('Error during call to suggestCharts:', error);\n",
              "      }\n",
              "      quickchartButtonEl.classList.remove('colab-df-spinner');\n",
              "      quickchartButtonEl.classList.add('colab-df-quickchart-complete');\n",
              "    }\n",
              "    (() => {\n",
              "      let quickchartButtonEl =\n",
              "        document.querySelector('#df-887c48eb-8d09-4e89-8973-c862f7cdf52f button');\n",
              "      quickchartButtonEl.style.display =\n",
              "        google.colab.kernel.accessAllowed ? 'block' : 'none';\n",
              "    })();\n",
              "  </script>\n",
              "</div>\n",
              "    </div>\n",
              "  </div>\n"
            ],
            "application/vnd.google.colaboratory.intrinsic+json": {
              "type": "dataframe",
              "variable_name": "df",
              "summary": "{\n  \"name\": \"df\",\n  \"rows\": 200,\n  \"fields\": [\n    {\n      \"column\": \"city_1\",\n      \"properties\": {\n        \"dtype\": \"number\",\n        \"std\": 9.310039152070015,\n        \"min\": 143.80254895910255,\n        \"max\": 197.2016916658962,\n        \"num_unique_values\": 200,\n        \"samples\": [\n          155.36485051867882,\n          164.37712470759027,\n          163.98293387770602\n        ],\n        \"semantic_type\": \"\",\n        \"description\": \"\"\n      }\n    },\n    {\n      \"column\": \"city_2\",\n      \"properties\": {\n        \"dtype\": \"number\",\n        \"std\": 9.870038110220426,\n        \"min\": 139.58732659930928,\n        \"max\": 210.5273149065472,\n        \"num_unique_values\": 200,\n        \"samples\": [\n          165.07090404739347,\n          179.58969220493267,\n          164.69633368282862\n        ],\n        \"semantic_type\": \"\",\n        \"description\": \"\"\n      }\n    }\n  ]\n}"
            }
          },
          "metadata": {},
          "execution_count": 4
        }
      ]
    },
    {
      "cell_type": "code",
      "source": [
        "df.shape"
      ],
      "metadata": {
        "colab": {
          "base_uri": "https://localhost:8080/"
        },
        "id": "jEOzf-LRWoH5",
        "outputId": "f48c2d14-76db-4147-8041-b9ba36f3ab34"
      },
      "id": "jEOzf-LRWoH5",
      "execution_count": null,
      "outputs": [
        {
          "output_type": "execute_result",
          "data": {
            "text/plain": [
              "(200, 2)"
            ]
          },
          "metadata": {},
          "execution_count": 5
        }
      ]
    },
    {
      "cell_type": "code",
      "source": [
        "df['city_1'].mean(), df['city_2'].mean()"
      ],
      "metadata": {
        "colab": {
          "base_uri": "https://localhost:8080/"
        },
        "id": "MhhHLbYUWrLu",
        "outputId": "ed32b635-9732-46e9-f7c1-2faa6be9c8f1"
      },
      "id": "MhhHLbYUWrLu",
      "execution_count": null,
      "outputs": [
        {
          "output_type": "execute_result",
          "data": {
            "text/plain": [
              "(np.float64(169.59229034827914), np.float64(172.85868186898875))"
            ]
          },
          "metadata": {},
          "execution_count": 6
        }
      ]
    },
    {
      "cell_type": "code",
      "source": [
        "city1_values = df['city_1'].values\n",
        "city2_values = df['city_2'].values"
      ],
      "metadata": {
        "id": "2-_T5KycY02l"
      },
      "id": "2-_T5KycY02l",
      "execution_count": null,
      "outputs": []
    },
    {
      "cell_type": "code",
      "source": [
        "def create_hist(data, bin=5):\n",
        "    data = np.round(data)\n",
        "    d_min, d_max = min(data), max(data)\n",
        "    grid = np.arange(d_min - d_min % 10, d_max + bin, bin)\n",
        "\n",
        "    plt.figure(figsize=(10, 5))\n",
        "    plt.hist(data, bins=grid, color='orange', edgecolor='black')\n",
        "    plt.xlabel(\"Рост\")\n",
        "    plt.ylabel(\"Частота\")\n",
        "    plt.title(\"Распределение роста\")\n",
        "    plt.show()"
      ],
      "metadata": {
        "id": "FBewYWwuf58f"
      },
      "id": "FBewYWwuf58f",
      "execution_count": null,
      "outputs": []
    },
    {
      "cell_type": "code",
      "source": [
        "create_hist(city1_values)"
      ],
      "metadata": {
        "colab": {
          "base_uri": "https://localhost:8080/",
          "height": 487
        },
        "id": "X-bcN4YKhD-V",
        "outputId": "934a8eb9-0c24-465e-9bb0-05ad2cb7a1bd"
      },
      "id": "X-bcN4YKhD-V",
      "execution_count": null,
      "outputs": [
        {
          "output_type": "display_data",
          "data": {
            "text/plain": [
              "<Figure size 1000x500 with 1 Axes>"
            ],
            "image/png": "[encoded data removed]"
          },
          "metadata": {}
        }
      ]
    },
    {
      "cell_type": "code",
      "source": [
        "create_hist(city2_values)"
      ],
      "metadata": {
        "colab": {
          "base_uri": "https://localhost:8080/",
          "height": 487
        },
        "id": "qKBHbFwKZ2BF",
        "outputId": "4bf2b5f1-283b-4e78-f901-26b5c07b0880"
      },
      "id": "qKBHbFwKZ2BF",
      "execution_count": null,
      "outputs": [
        {
          "output_type": "display_data",
          "data": {
            "text/plain": [
              "<Figure size 1000x500 with 1 Axes>"
            ],
            "image/png": "[encoded data removed]"
          },
          "metadata": {}
        }
      ]
    },
    {
      "cell_type": "markdown",
      "source": [
        "Двусторонний t-критерий для независимых выборок (независимый\n",
        "t-тест) используется для проверки гипотезы о равенстве средних двух групп, когда наблюдения в одной группе не зависят от наблюдений в другой. Этот тест применяется, когда данные предполагаются нормально распределёнными, а дисперсии могут быть как равными, так и различными."
      ],
      "metadata": {
        "id": "tf8DuxubLzrr"
      },
      "id": "tf8DuxubLzrr"
    },
    {
      "cell_type": "markdown",
      "source": [
        "# t-критерий для независимых выборок\n",
        "\n",
        "## Формулы\n",
        "1. **Если дисперсии равны (классический t-тест)**:\n",
        "   $$\n",
        "   t = \\frac{\\bar{X} - \\bar{Y}}{S_p \\cdot \\sqrt{\\frac{1}{n_1} + \\frac{1}{n_2}}}\n",
        "   $$\n",
        "   где  \n",
        "   $$\n",
        "   S_p^2 = \\frac{(n_1 - 1) S_X^2 + (n_2 - 1) S_Y^2}{n_1 + n_2 - 2}\n",
        "   $$\n",
        "   — объединённая дисперсия.\n",
        "\n",
        "2. **Если дисперсии различны (критерий Уэлча)**:\n",
        "   $$\n",
        "   t = \\frac{\\bar{X} - \\bar{Y}}{\\sqrt{\\frac{S_X^2}{n_1} + \\frac{S_Y^2}{n_2}}}\n",
        "   $$\n",
        "   Степени свободы рассчитываются по формуле:\n",
        "   $$\n",
        "   df = \\frac{\\left( \\frac{S_X^2}{n_1} + \\frac{S_Y^2}{n_2} \\right)^2}{\\frac{(S_X^2/n_1)^2}{n_1 - 1} + \\frac{(S_Y^2/n_2)^2}{n_2 - 1}}\n",
        "   $$"
      ],
      "metadata": {
        "id": "Ia4FELZVMau2"
      },
      "id": "Ia4FELZVMau2"
    },
    {
      "cell_type": "code",
      "source": [
        "from scipy.stats import t, levene\n",
        "\n",
        "def t_test(data1, data2, alpha=0.05):\n",
        "    \"\"\"\n",
        "    Вычисляет двусторонний t-критерий Стьюдента для независимых выборок.\n",
        "\n",
        "    Параметры:\n",
        "        data1 (np.ndarray): Первая выборка.\n",
        "        data2 (np.ndarray): Вторая выборка.\n",
        "\n",
        "    Возвращает:\n",
        "        float: p-значение теста.\n",
        "    \"\"\"\n",
        "    if len(data1) < 2 or len(data2) < 2:\n",
        "        raise ValueError(\"Обе выборки должны содержать хотя бы 2 элемента.\")\n",
        "\n",
        "    # Средние значения и размеры выборок\n",
        "    x_mean, y_mean = np.mean(data1), np.mean(data2)\n",
        "    n1, n2 = len(data1), len(data2)\n",
        "\n",
        "    # Выборочные дисперсии (ddof=1 делает их несмещёнными)\n",
        "    s1, s2 = np.var(data1, ddof=1), np.var(data2, ddof=1)\n",
        "\n",
        "    # Проверка равенства дисперсий с помощью критерия Левене\n",
        "    stat, p_value = levene(data1, data2)\n",
        "    test = \"\"\n",
        "    if p_value < alpha:  # Дисперсии значимо различаются → используем критерий Уэлча\n",
        "        coef1, coef2 = s1 / n1, s2 / n2\n",
        "        df = (coef1 + coef2) ** 2 / ((coef1 ** 2) / (n1 - 1) + (coef2 ** 2) / (n2 - 1))\n",
        "        t_stat = (x_mean - y_mean) / np.sqrt(coef1 + coef2)\n",
        "        t_p_value = 2 * t.sf(abs(t_stat), df)\n",
        "        test = \"The Welch criterion\"\n",
        "    else:  # Дисперсии примерно равны → используем классический t-тест\n",
        "        sp_2 = ((n1 - 1) * s1 + (n2 - 1) * s2) / (n1 + n2 - 2)\n",
        "        sp = np.sqrt(sp_2)\n",
        "        t_stat = (x_mean - y_mean) / (sp * np.sqrt(1 / n1 + 1 / n2))\n",
        "        df = n1 + n2 - 2\n",
        "        t_p_value = 2 * t.sf(abs(t_stat), df)\n",
        "        test = \"Classic t-test\"\n",
        "\n",
        "    return {'test' : test, 'p_value': t_p_value}"
      ],
      "metadata": {
        "id": "2EleR53uMkDF"
      },
      "id": "2EleR53uMkDF",
      "execution_count": 18,
      "outputs": []
    },
    {
      "cell_type": "code",
      "source": [
        "t_test(city1_values, city2_values)"
      ],
      "metadata": {
        "id": "jxKxOCrNR1Cp",
        "outputId": "f0d1d113-c0ad-4b33-8c8a-1f95fc6385c9",
        "colab": {
          "base_uri": "https://localhost:8080/"
        }
      },
      "id": "jxKxOCrNR1Cp",
      "execution_count": null,
      "outputs": [
        {
          "output_type": "execute_result",
          "data": {
            "text/plain": [
              "{'test': 'Classic t-test', 'p_value': np.float64(0.00073001163352215)}"
            ]
          },
          "metadata": {},
          "execution_count": 22
        }
      ]
    },
    {
      "cell_type": "markdown",
      "source": [
        "Если уровень значимости 𝛼 = 0.05:\n",
        "\n",
        "$$𝑝=0.00073≪0.05$$ → разница значима → отвергаем $𝐻_0$.\n",
        "\n",
        "Средние значения в city1 и city2 различаются статистически значимо.\n",
        "\n"
      ],
      "metadata": {
        "id": "OtGGZ4o0S2sq"
      },
      "id": "OtGGZ4o0S2sq"
    },
    {
      "cell_type": "markdown",
      "source": [
        "### **Доверительный интервал**  \n",
        "$$\n",
        "(\\bar{X} - \\bar{Y}) \\pm t_{\\alpha/2, df} \\cdot SE\n",
        "$$  \n",
        "где $t_{\\alpha/2, df}$ — критическое значение t-распределения.\n",
        "\n",
        "#### **1. Если дисперсии равны (классический t-критерий)**  \n",
        "Стандартная ошибка:  \n",
        "$$\n",
        "SE = s_p \\cdot \\sqrt{\\frac{1}{n_1} + \\frac{1}{n_2}}\n",
        "$$  \n",
        "\n",
        "#### **2. Если дисперсии различны (критерий Уэлча)**  \n",
        "Стандартная ошибка:  \n",
        "$$\n",
        "SE = \\sqrt{\\frac{s_X^2}{n_1} + \\frac{s_Y^2}{n_2}}\n",
        "$$  "
      ],
      "metadata": {
        "id": "XsHoqrMpTuBf"
      },
      "id": "XsHoqrMpTuBf"
    },
    {
      "cell_type": "code",
      "source": [
        "def confidence_interval(data1: np.ndarray, data2: np.ndarray, alpha=0.05):\n",
        "    \"\"\"\n",
        "    Вычисляет доверительный интервал для разницы средних двух независимых выборок.\n",
        "\n",
        "    Параметры:\n",
        "        data1 (np.ndarray): Первая выборка.\n",
        "        data2 (np.ndarray): Вторая выборка.\n",
        "        alpha (float): Уровень значимости (по умолчанию 0.05 для 95% доверительного интервала).\n",
        "\n",
        "    Возвращает:\n",
        "        tuple: (нижняя граница, верхняя граница)\n",
        "    \"\"\"\n",
        "    if len(data1) < 2 or len(data2) < 2:\n",
        "        raise ValueError(\"Обе выборки должны содержать хотя бы 2 элемента.\")\n",
        "\n",
        "    # Средние значения и размеры выборок\n",
        "    x_mean, y_mean = np.mean(data1), np.mean(data2)\n",
        "    n1, n2 = len(data1), len(data2)\n",
        "\n",
        "    # Выборочные дисперсии (ddof=1 делает их несмещёнными)\n",
        "    s1, s2 = np.var(data1, ddof=1), np.var(data2, ddof=1)\n",
        "\n",
        "    # Проверка равенства дисперсий с помощью критерия Левене\n",
        "    stat, p_value = levene(data1, data2)\n",
        "    test = \"\"\n",
        "    if p_value < alpha:  # Дисперсии значимо различаются → используем критерий Уэлча\n",
        "        coef1, coef2 = s1 / n1, s2 / n2\n",
        "        se = np.sqrt(coef1 + coef2)\n",
        "        df = (s1 / n1 + s2 / n2) ** 2 / ((s1 / n1) ** 2 / (n1 - 1) + (s2 / n2) ** 2 / (n2 - 1))\n",
        "        test = \"The Welch criterion\"\n",
        "    else:  # Дисперсии примерно равны → используем классический t-тест\n",
        "        sp_2 = ((n1 - 1) * s1 + (n2 - 1) * s2) / (n1 + n2 - 2)\n",
        "        sp = np.sqrt(sp_2)\n",
        "        se = sp * np.sqrt(1 / n1 + 1 / n2)\n",
        "        df = n1 + n2 - 2\n",
        "        test = \"Classic t-test\"\n",
        "    q = t.ppf(1 - alpha / 2, df)\n",
        "    right_boarder = (x_mean - y_mean) + q * se\n",
        "    left_boarder = (x_mean - y_mean) - q * se\n",
        "    return {'test': test, 'interval': (left_boarder, right_boarder)}"
      ],
      "metadata": {
        "id": "OG8cWsTJT5c5"
      },
      "id": "OG8cWsTJT5c5",
      "execution_count": 19,
      "outputs": []
    },
    {
      "cell_type": "code",
      "source": [
        "confidence_interval(city1_values, city2_values)"
      ],
      "metadata": {
        "id": "wBZ81rtDVVnP",
        "outputId": "9ad72dc5-98d5-4de1-8580-cc451e0fa570",
        "colab": {
          "base_uri": "https://localhost:8080/"
        }
      },
      "id": "wBZ81rtDVVnP",
      "execution_count": null,
      "outputs": [
        {
          "output_type": "execute_result",
          "data": {
            "text/plain": [
              "{'test': 'Classic t-test',\n",
              " 'interval': (np.float64(-5.152541223514153), np.float64(-1.380241817905083))}"
            ]
          },
          "metadata": {},
          "execution_count": 32
        }
      ]
    },
    {
      "cell_type": "markdown",
      "source": [
        "Обе границы отрицательные, что означает, что среднее значение в city1_values значимо меньше, чем в city2_values.\n",
        "\n",
        "Если бы интервал содержал ноль (например, [−2, 3]), мы бы не могли уверенно сказать, что есть статистически значимая разница.\n",
        "\n",
        "Здесь же весь интервал ниже нуля, значит разница значима:\n",
        "Город 1 в среднем имеет более низкое значение, чем Город 2.\n",
        "\n",
        "Вывод: Средние значения двух городов статистически значимо различаются, и первый город имеет меньшие средние показатели, чем второй."
      ],
      "metadata": {
        "id": "aacLYZ4BWVRY"
      },
      "id": "aacLYZ4BWVRY"
    },
    {
      "cell_type": "markdown",
      "source": [
        "### Задача 2: Двусторонний критерий для выборок из одного распределения\n",
        "\n",
        "- Сгенерируй две выборки размера 100 каждая из нормального распределения $N(50, 10^2)$.\n",
        "- Проверь гипотезу, что у них одинаковое математическое ожидание, используя двусторонний t-критерий.\n",
        "- Проверь гипотезу о равенстве дисперсий (F-критерий).\n",
        "- Как изменятся результаты, если добавить 10 к каждому элементу второй выборки?"
      ],
      "metadata": {
        "id": "oSgbtIjnUxA6"
      },
      "id": "oSgbtIjnUxA6"
    },
    {
      "cell_type": "code",
      "source": [
        "X = np.random.normal(loc=50, scale=10, size=100)\n",
        "Y = np.random.normal(loc=50, scale=10, size=100)"
      ],
      "metadata": {
        "id": "yft9awIytz5E"
      },
      "id": "yft9awIytz5E",
      "execution_count": 24,
      "outputs": []
    },
    {
      "cell_type": "code",
      "source": [
        "X.mean(), Y.mean()"
      ],
      "metadata": {
        "id": "cd7FH8xmuahu",
        "outputId": "83003f79-2077-4141-d891-0faa6dcd70f3",
        "colab": {
          "base_uri": "https://localhost:8080/"
        }
      },
      "id": "cd7FH8xmuahu",
      "execution_count": 17,
      "outputs": [
        {
          "output_type": "execute_result",
          "data": {
            "text/plain": [
              "(np.float64(50.845339549141364), np.float64(49.83848714698785))"
            ]
          },
          "metadata": {},
          "execution_count": 17
        }
      ]
    },
    {
      "cell_type": "code",
      "source": [
        "t_test(X, Y)"
      ],
      "metadata": {
        "id": "oe8-g1g0wTkT",
        "outputId": "4bcef09b-9cd6-43a2-c164-a5994108f72f",
        "colab": {
          "base_uri": "https://localhost:8080/"
        }
      },
      "id": "oe8-g1g0wTkT",
      "execution_count": 20,
      "outputs": [
        {
          "output_type": "execute_result",
          "data": {
            "text/plain": [
              "{'test': 'Classic t-test', 'p_value': np.float64(0.4916962208051283)}"
            ]
          },
          "metadata": {},
          "execution_count": 20
        }
      ]
    },
    {
      "cell_type": "markdown",
      "source": [
        "$p_{value} = 0.49 << 0.5 \\Rightarrow$Средние значения двух выборок НЕ различаются статистически значимо."
      ],
      "metadata": {
        "id": "-hMB9L2ywr6s"
      },
      "id": "-hMB9L2ywr6s"
    },
    {
      "cell_type": "code",
      "source": [
        "import scipy.stats as stats\n",
        "\n",
        "def f_criterion(X: np.ndarray, Y: np.ndarray, alpha=0.05) -> float:\n",
        "    '''\n",
        "    Вычисляет F-критерий для двух выборок X, Y о равенстве дисперсий\n",
        "\n",
        "    Параметры:\n",
        "        X - np.ndarray выборка 1\n",
        "        Y - np.ndarray выборка 2\n",
        "        alpha - float уровень значимости\n",
        "\n",
        "    Результат:\n",
        "    p_value - float\n",
        "    '''\n",
        "    var_x, var_y = np.var(X, ddof=1), np.var(Y, ddof=1)\n",
        "    n1, n2 = len(X), len(Y)\n",
        "    F = max(var_x, var_y) / min(var_x, var_y)\n",
        "    p_value = 1 - stats.f.cdf(F, n1, n2)\n",
        "    return p_value"
      ],
      "metadata": {
        "id": "IaNbBqY1xSGY"
      },
      "id": "IaNbBqY1xSGY",
      "execution_count": 29,
      "outputs": []
    },
    {
      "cell_type": "code",
      "source": [
        "f_criterion(X, Y)"
      ],
      "metadata": {
        "id": "u-mc2HrY1BNE",
        "outputId": "bc2163a0-ef94-4d4a-d43a-3f96f65fa061",
        "colab": {
          "base_uri": "https://localhost:8080/"
        }
      },
      "id": "u-mc2HrY1BNE",
      "execution_count": 30,
      "outputs": [
        {
          "output_type": "execute_result",
          "data": {
            "text/plain": [
              "np.float64(0.38077791475844047)"
            ]
          },
          "metadata": {},
          "execution_count": 30
        }
      ]
    },
    {
      "cell_type": "markdown",
      "source": [
        "$p_{value} = 0.38 > 0.05 \\Rightarrow$ нет оснований отвергать нулевую гипотезу о равенстве дисперсий.\n",
        "\n",
        "Различия в дисперсиях статистически незначимы."
      ],
      "metadata": {
        "id": "flmw3xLg1wWq"
      },
      "id": "flmw3xLg1wWq"
    },
    {
      "cell_type": "code",
      "source": [
        "Y += 10"
      ],
      "metadata": {
        "id": "lFVcKejS2FPW"
      },
      "id": "lFVcKejS2FPW",
      "execution_count": 31,
      "outputs": []
    },
    {
      "cell_type": "code",
      "source": [
        "f_criterion(X, Y)"
      ],
      "metadata": {
        "id": "zc9zpo252IjI",
        "outputId": "ef16d79f-2f56-43b1-8571-ff7211e0bfe3",
        "colab": {
          "base_uri": "https://localhost:8080/"
        }
      },
      "id": "zc9zpo252IjI",
      "execution_count": 32,
      "outputs": [
        {
          "output_type": "execute_result",
          "data": {
            "text/plain": [
              "np.float64(0.38077791475844047)"
            ]
          },
          "metadata": {},
          "execution_count": 32
        }
      ]
    },
    {
      "cell_type": "markdown",
      "source": [
        "Добавление 10 просто сдвигает распределение вправо, но не меняет форму распределения и его дисперсию. Поэтому F-критерий остаётся неизменным"
      ],
      "metadata": {
        "id": "zGCWkybj2WFO"
      },
      "id": "zGCWkybj2WFO"
    },
    {
      "cell_type": "markdown",
      "source": [
        "### Задача 3: Визуализация данных и статистические функции в Python\n",
        "\n",
        "- Сгенерируй выборку из нормального распределения $N(100, 20^2)$ размером 1000.\n",
        "- Построй гистограмму выборки.\n",
        "- Вычисли основные статистики: среднее, медиану, стандартное отклонение, интерквартильный размах.\n",
        "- Построй boxplot и определи, есть ли выбросы."
      ],
      "metadata": {
        "id": "SfwArqaNU1dH"
      },
      "id": "SfwArqaNU1dH"
    },
    {
      "cell_type": "code",
      "source": [
        "X = np.random.normal(loc=100, scale=20, size=100)"
      ],
      "metadata": {
        "id": "w4usSSZGUUQk"
      },
      "id": "w4usSSZGUUQk",
      "execution_count": 33,
      "outputs": []
    },
    {
      "cell_type": "code",
      "source": [
        "plt.hist(X)\n",
        "plt.show()"
      ],
      "metadata": {
        "id": "GoHoSJKl2oNJ",
        "outputId": "c698d850-17a6-44f3-eaaa-979bdc867ad9",
        "colab": {
          "base_uri": "https://localhost:8080/",
          "height": 430
        }
      },
      "id": "GoHoSJKl2oNJ",
      "execution_count": 35,
      "outputs": [
        {
          "output_type": "display_data",
          "data": {
            "text/plain": [
              "<Figure size 640x480 with 1 Axes>"
            ],
            "image/png": "[encoded data removed]"
          },
          "metadata": {}
        }
      ]
    },
    {
      "cell_type": "markdown",
      "source": [
        "### Интерквартильный размах (IQR — Interquartile Range)\n",
        "\n",
        "Интерквартильный размах (IQR) — это мера разброса данных, показывающая, насколько широко распределены значения средних 50% выборки.\n",
        "\n",
        "Формула:\n",
        "\n",
        "$$IQR=Q_3 - Q_1$$\n",
        "\n",
        "Где:\n",
        "\n",
        "$Q_1$ - (первый квартиль) — 25-й процентиль (значение, ниже которого находится 25% данных).\n",
        "\n",
        "$Q_3$ - (третий квартиль) — 75-й процентиль (значение, ниже которого находится 75% данных).\n",
        "\n",
        "$IQR$ — разница между ними.\n",
        "\n",
        "IQR показывает, насколько сильно разбросаны центральные значения выборки и помогает выявлять выбросы."
      ],
      "metadata": {
        "id": "i6qF6wt53TjD"
      },
      "id": "i6qF6wt53TjD"
    },
    {
      "cell_type": "code",
      "source": [
        "X_mean = np.mean(X)\n",
        "X_median = np.median(X)\n",
        "X_std = np.std(X)\n",
        "Q1 = np.percentile(X, 25)\n",
        "Q3 = np.percentile(X, 75)\n",
        "IQR = Q3 - Q1\n",
        "print(f'среднее значение: {X_mean},\\n\\\n",
        "медиана: {X_median},\\n\\\n",
        "стандартное отклонение: {X_std},\\n\\\n",
        "интерквартильный размах: {IQR}'\n",
        ")"
      ],
      "metadata": {
        "id": "4mNK0ZnN24Gw",
        "outputId": "5644deea-03fe-410c-9574-d6ef236cc9cc",
        "colab": {
          "base_uri": "https://localhost:8080/"
        }
      },
      "id": "4mNK0ZnN24Gw",
      "execution_count": 40,
      "outputs": [
        {
          "output_type": "stream",
          "name": "stdout",
          "text": [
            "среднее значение: 98.05202834151363,\n",
            "медиана: 98.13265940767029,\n",
            "стандартное отклонение: 18.452906794799055,\n",
            "интерквартильный размах: 24.47133412537565\n"
          ]
        }
      ]
    },
    {
      "cell_type": "code",
      "source": [
        "import seaborn as sns\n",
        "\n",
        "plt.figure(figsize=(8, 5))\n",
        "sns.boxplot(x=X, color=\"skyblue\", width=0.5, flierprops={\"marker\": \"o\", \"markerfacecolor\": \"red\", \"markersize\": 6})\n",
        "plt.title(\"Boxplot for X\", fontsize=14)\n",
        "plt.grid(True, linestyle=\"--\", alpha=0.6)\n",
        "plt.show()"
      ],
      "metadata": {
        "id": "ziHS2JfK4S8P",
        "outputId": "4a44048b-4234-4c2f-e51d-252744ce5e9b",
        "colab": {
          "base_uri": "https://localhost:8080/",
          "height": 469
        }
      },
      "id": "ziHS2JfK4S8P",
      "execution_count": 42,
      "outputs": [
        {
          "output_type": "display_data",
          "data": {
            "text/plain": [
              "<Figure size 800x500 with 1 Axes>"
            ],
            "image/png": "[encoded data removed]"
          },
          "metadata": {}
        }
      ]
    },
    {
      "cell_type": "markdown",
      "source": [
        "Выбросов нет."
      ],
      "metadata": {
        "id": "bJxJXR_k6JcQ"
      },
      "id": "bJxJXR_k6JcQ"
    }
  ],
  "metadata": {
    "kernelspec": {
      "display_name": "Python 3 (ipykernel)",
      "language": "python",
      "name": "python3"
    },
    "language_info": {
      "codemirror_mode": {
        "name": "ipython",
        "version": 3
      },
      "file_extension": ".py",
      "mimetype": "text/x-python",
      "name": "python",
      "nbconvert_exporter": "python",
      "pygments_lexer": "ipython3",
      "version": "3.7.4"
    },
    "vscode": {
      "interpreter": {
        "hash": "31f2aee4e71d21fbe5cf8b01ff0e069b9275f58929596ceb00d14d90e3e16cd6"
      }
    },
    "colab": {
      "provenance": []
    }
  },
  "nbformat": 4,
  "nbformat_minor": 5
}